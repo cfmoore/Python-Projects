{
 "cells": [
  {
   "cell_type": "markdown",
   "metadata": {},
   "source": [
    "# Lab 4: NumPy Introduction"
   ]
  },
  {
   "cell_type": "markdown",
   "metadata": {},
   "source": [
    "### Author: <font color='red'>Charles Moore</font>"
   ]
  },
  {
   "cell_type": "markdown",
   "metadata": {},
   "source": [
    "## Verify installation of NumPy"
   ]
  },
  {
   "cell_type": "markdown",
   "metadata": {},
   "source": [
    "If the NumPy library is installed, it can be imported with the standard Python import statement.\n",
    "NumPy is usually imported using the **np** alias. The version of NumPy can be verified with the \\_\\_version\\_\\_ command.\n"
   ]
  },
  {
   "cell_type": "code",
   "execution_count": 1,
   "metadata": {},
   "outputs": [
    {
     "data": {
      "text/plain": [
       "'1.20.1'"
      ]
     },
     "execution_count": 1,
     "metadata": {},
     "output_type": "execute_result"
    }
   ],
   "source": [
    "# Make sure NumPy is installed (see Lab Instructions if you get an error here)\n",
    "import numpy as np\n",
    "np.__version__"
   ]
  },
  {
   "cell_type": "markdown",
   "metadata": {},
   "source": [
    "## Intro to NumPy (100 pts)"
   ]
  },
  {
   "cell_type": "markdown",
   "metadata": {},
   "source": [
    "## Step A: Creating NumPy Arrays (30 pts)"
   ]
  },
  {
   "cell_type": "markdown",
   "metadata": {},
   "source": [
    "__Create a NumPy ndarray Object__\n",
    "\n",
    "NumPy works with arrays. The array object used in NumPy is called __ndarray__ which is shorthand for __N-dimensional array__ (an array with any number of dimensions). The __ndarray__ is a _homogeneous_ array, meaning all the values within the array must be of the same datatype.\n",
    "\n",
    "All you need to create a simple array is pass it a list, tuple or any array-like object and it will be converted into an __ndarray__. Like Python, NumPy will determine the datatype based on the values used to create the array, however you CAN specify the datatype using the __dtype = 'xxxx'__ option. \n",
    "\n",
    "NumPy has several functions that can be used to create arrays with __initial values__. A list of the creation routines can be found on the NumPy API reference website: \n",
    "\n",
    "- https://numpy.org/doc/stable/reference/routines.array-creation.html \n",
    "\n",
    "Here are a few commonly used routines:\n",
    "- np.zeros ~ returns an array of a given shape and type filled with _zeros_ (0)\n",
    "- np.ones  ~ returns an array of a given shape and type filled with _ones_ (1) \n",
    "- np.full  ~ returns an array of a given shape and type filled with a _fill_value_\n",
    "- np.empty ~ returns an array of a given shape and type without initializing entries\n",
    "- np.eye   ~ returns a 2D-array with 1's on a diagonal and 0's elsewhere\n",
    "- np.identity ~ returns a square array with ones on the __main__ diagonal (similar to np.eye)\n",
    "\n",
    "Let's create a few ..."
   ]
  },
  {
   "cell_type": "markdown",
   "metadata": {},
   "source": [
    "<span style=\"color:blue\">\n",
    "1. Create a <strong>NumPy</strong> array <strong>A1</strong> using a <strong>list</strong> containing <strong>[5,10,15,20,25]</strong>. <br>\n",
    "2. Create a <strong>NumPy</strong> array <strong>A2</strong> using a <strong>list</strong> containing <strong>[5,10,15,20,25]</strong> but explicitly set the <strong>data type to float (64)</strong>. <br>\n",
    "3. Create a <strong>NumPy</strong> array <strong>A3</strong> using a <strong>tuple</strong> containing <strong>(1,2,3,4,5)</strong>. <br>    \n",
    "4. Create a <strong>NumPy</strong> array <strong>A4</strong> with <strong>4 elements</strong> all set to <strong>0</strong> and <strong>float</strong>. <br>\n",
    "5. Create a <strong>2 x 2 NumPy</strong> array <strong>A5</strong> with all the values set to <strong>1</strong> and <strong>int</strong>. <br>       \n",
    "6. Create a <strong>3 x 3 NumPy</strong> array <strong>A6</strong> with all values set to <strong>2021</strong>. <br>\n",
    "7. Create a <strong>4 x 4 NumPy</strong> array <strong>A7</strong> without initializing the entries<br>     \n",
    "8. Create a <strong>5 x 5 NumPy</strong> array <strong>A8</strong> with the index of the diagonal <strong>k=2</strong> values set to <strong>1</strong>. <br> \n",
    "9. Create a <strong>5 x 5 NumPy</strong> array <strong>A9</strong> with the <strong>main</strong> diagonal values set to <strong>1</strong>. <br> \n",
    "10. Create a <strong>2 x 5 NumPy</strong> array <strong>A10</strong> using a <strong>list</strong> containing values <strong>1-10 (inclusive)</strong> using <strong>range()</strong> to generate the values for both rows.\n",
    "</span>"
   ]
  },
  {
   "cell_type": "code",
   "execution_count": 45,
   "metadata": {},
   "outputs": [],
   "source": [
    "# INSERT CODE FOR STEPS 1 - 10\n",
    "import numpy as np\n",
    "A1 = np.array([5,10,15,20,25])\n",
    "A2 = np.array([5,10,15,20,25], dtype='float')\n",
    "A3 = np.array((1,2,3,4,5))\n",
    "A4 = np.zeros(4, dtype='float')\n",
    "A5 = np.ones([2,2],dtype = 'int')\n",
    "A6 = np.full([3,3],2021)\n",
    "A7 = np.empty([4,4])\n",
    "A8 = np.eye(5, k=2)\n",
    "A9 = np.eye(5)\n",
    "A10 = np.array([[list(range(1,6))],[list(range(6,11))]])"
   ]
  },
  {
   "cell_type": "code",
   "execution_count": 46,
   "metadata": {},
   "outputs": [
    {
     "name": "stdout",
     "output_type": "stream",
     "text": [
      "A1:\n",
      " [ 5 10 15 20 25]\n",
      "A2:\n",
      " [ 5. 10. 15. 20. 25.]\n",
      "A3:\n",
      " [1 2 3 4 5]\n",
      "A4:\n",
      " [0. 0. 0. 0.]\n",
      "A5:\n",
      " [[1 1]\n",
      " [1 1]]\n",
      "A6:\n",
      " [[2021 2021 2021]\n",
      " [2021 2021 2021]\n",
      " [2021 2021 2021]]\n",
      "A7:\n",
      " [[4.65844522e-310 0.00000000e+000 2.41907520e-312 2.37663529e-312]\n",
      " [2.22809558e-312 2.46151512e-312 6.79038654e-313 2.35541533e-312]\n",
      " [2.46151512e-312 6.79038654e-313 2.35541533e-312 6.79038654e-313]\n",
      " [2.14321575e-312 2.22809558e-312 2.14321575e-312 7.31973418e+169]]\n",
      "A8:\n",
      " [[0. 0. 1. 0. 0.]\n",
      " [0. 0. 0. 1. 0.]\n",
      " [0. 0. 0. 0. 1.]\n",
      " [0. 0. 0. 0. 0.]\n",
      " [0. 0. 0. 0. 0.]]\n",
      "A9:\n",
      " [[1. 0. 0. 0. 0.]\n",
      " [0. 1. 0. 0. 0.]\n",
      " [0. 0. 1. 0. 0.]\n",
      " [0. 0. 0. 1. 0.]\n",
      " [0. 0. 0. 0. 1.]]\n",
      "A10:\n",
      " [[[ 1  2  3  4  5]]\n",
      "\n",
      " [[ 6  7  8  9 10]]]\n"
     ]
    }
   ],
   "source": [
    "# DO NOT MODIFY !!!\n",
    "print(\"A1:\\n\",A1)\n",
    "print(\"A2:\\n\",A2)\n",
    "print(\"A3:\\n\",A3)\n",
    "print(\"A4:\\n\",A4)\n",
    "print(\"A5:\\n\",A5)\n",
    "print(\"A6:\\n\",A6)\n",
    "print(\"A7:\\n\",A7)\n",
    "print(\"A8:\\n\",A8)\n",
    "print(\"A9:\\n\",A9)\n",
    "print(\"A10:\\n\",A10)"
   ]
  },
  {
   "cell_type": "markdown",
   "metadata": {},
   "source": [
    "__Create a NumPy ndarray with Numerical ranges & Random__\n",
    "\n",
    "NumPy has several functions that can be used to create arrays with __numerical ranges__. A list of the numerical range routines can be found on the NumPy API reference website: \n",
    "- https://numpy.org/doc/stable/reference/routines.array-creation.html#numerical-ranges\n",
    "\n",
    "Here are a few commonly used routines:\n",
    "- np.arange    ~ return evenly spaced values within a given interval\n",
    "- np.linspace  ~ return evenly spaced numbers over a specified interval\n",
    "- np.logspace  ~ returns numbers spaced evenly on a log scale\n",
    "\n",
    "NOTE: You also might want to create arrays of random numbers! This can be done as well using Python's __random__ and __randint__ methods. As always, w3schools is a great place to find a list of all the __random module methods__ \n",
    "\n",
    "https://www.w3schools.com/python/module_random.asp\n",
    "\n",
    "- seed()    ~ initializes the random number generator\n",
    "- randint() ~ returns a random number between a given range\n",
    "- random()  ~ returns a random float number between 0 and 1\n",
    "\n",
    "Let's try a few ..."
   ]
  },
  {
   "cell_type": "markdown",
   "metadata": {},
   "source": [
    "<span style=\"color:blue\">\n",
    "    11. Create a <strong>NumPy</strong> array <strong>A11</strong> using <strong>arange</strong> with sequential values from <strong>1-12 (inclusive)</strong>. <br>  \n",
    "    12. Create a <strong>NumPy</strong> array <strong>A12</strong> using <strong>linspace</strong> with <strong>5</strong> values evenly spaced between <strong>10 - 50</strong>. <br> \n",
    "    13. Create a <strong>NumPy</strong> array <strong>A13</strong> using <strong>logspace</strong> with <strong>10</strong> values evenly spaced between base start <strong>2</strong> and base stop <strong>3</strong>. <br>     \n",
    "    14. Create a <strong>NumPy</strong> array <strong>A14</strong> using <strong>random</strong> to generate <strong>5</strong> random numbers between <strong>0 - 1</strong>. <br>\n",
    "    15. Create a <strong>2 x 3 NumPy</strong> array <strong>A15</strong> using <strong>randint</strong> to generate random integers between <strong>0 - 5</strong>. <br>\n",
    "</span>"
   ]
  },
  {
   "cell_type": "code",
   "execution_count": 56,
   "metadata": {},
   "outputs": [],
   "source": [
    "import random\n",
    "# INSERT CODE FOR STEPS 11 - 15\n",
    "import numpy as np\n",
    "A11 = np.arange(1,13)\n",
    "A12 = np.linspace(10,50,num=5)\n",
    "A13 = np.logspace(2,3,num=10)\n",
    "A14 = np.random.rand(1,5)\n",
    "A15 = np.random.randint(0,5,(2,3))"
   ]
  },
  {
   "cell_type": "code",
   "execution_count": 57,
   "metadata": {},
   "outputs": [
    {
     "name": "stdout",
     "output_type": "stream",
     "text": [
      "A11:\n",
      " [ 1  2  3  4  5  6  7  8  9 10 11 12]\n",
      "A12:\n",
      " [10. 20. 30. 40. 50.]\n",
      "A13:\n",
      " [ 100.          129.1549665   166.81005372  215.443469    278.25594022\n",
      "  359.38136638  464.15888336  599.48425032  774.26368268 1000.        ]\n",
      "A14:\n",
      " [[0.18132409 0.2819481  0.00471999 0.86217722 0.80957154]]\n",
      "A15:\n",
      " [[1 4 2]\n",
      " [0 1 0]]\n"
     ]
    }
   ],
   "source": [
    "# DO NOT MODIFY !!!\n",
    "print(\"A11:\\n\",A11)\n",
    "print(\"A12:\\n\",A12)\n",
    "print(\"A13:\\n\",A13)\n",
    "print(\"A14:\\n\",A14)\n",
    "print(\"A15:\\n\",A15)"
   ]
  },
  {
   "cell_type": "markdown",
   "metadata": {},
   "source": [
    "## Step B: The Basics of NumPy Arrays (70 pts)\n",
    "### Array Attributes, Indexing, Slicing, Reshaping, Joining and Splitting"
   ]
  },
  {
   "cell_type": "markdown",
   "metadata": {},
   "source": [
    "__Review the Attributes of ndarray Objects__\n",
    "\n",
    "As with other data objects, you can determine various attributes associated with each ndarray.\n",
    "A list of the array attributes can be found on the NumPy API reference website:\n",
    "- https://numpy.org/doc/stable/reference/arrays.ndarray.html#array-attributes\n",
    "\n",
    "Here are a few:\n",
    "- ndarray.ndim  ~ number of array dimensions\n",
    "- ndarray.shape ~ tuple of array dimensions\n",
    "- ndarray.size  ~ number of elements in the array\n",
    "- ndarray.dtype ~ data-type of the array's elements\n",
    "- ndarray.itemsize ~ length of one array element in bytes\n",
    "- ndarray.nbytes   ~ total bytes consumed by the elements of the array\n",
    "\n",
    "\n",
    "Let's create an array and check it's attributes ...\n",
    "\n",
    "__ARRAY ATTRIBUTES__"
   ]
  },
  {
   "cell_type": "markdown",
   "metadata": {},
   "source": [
    "<span style=\"color:blue\">\n",
    "    1. Create a <strong>4 x 4 NumPy</strong> array <strong>B1</strong> filled with <strong>1's</strong> of type <strong>int</strong>. <br>\n",
    "    2. Set <strong>B2</strong> = the <strong>number of dimensions</strong> of B1. <br>   \n",
    "    3. Set <strong>B3</strong> = the <strong>size of each dimension</strong> of B1. <br>  \n",
    "    4. Set <strong>B4</strong> = the <strong>total size</strong> of B1. <br>  \n",
    "    5. Set <strong>B5</strong> = the <strong>data type</strong> of B1. <br>  \n",
    "    6. Set <strong>B6</strong> = the <strong>size (in bytes) of each array element</strong> of B1. <br>  \n",
    "    7. Set <strong>B7</strong> = the <strong>total size (in bytes)</strong> of B1.  \n",
    "</span>"
   ]
  },
  {
   "cell_type": "code",
   "execution_count": 75,
   "metadata": {},
   "outputs": [],
   "source": [
    "# INSERT CODE FOR STEPS 1 - 7\n",
    "import numpy as np\n",
    "B1 = np.ones([4,4],dtype='int')\n",
    "B2 = B1.ndim\n",
    "B3 = B1.shape\n",
    "B4 = B1.size\n",
    "B5 = B1.dtype\n",
    "B6 = B1.itemsize\n",
    "B7 = B6*B4"
   ]
  },
  {
   "cell_type": "code",
   "execution_count": 67,
   "metadata": {},
   "outputs": [
    {
     "name": "stdout",
     "output_type": "stream",
     "text": [
      "B1:\n",
      " [[1 1 1 1]\n",
      " [1 1 1 1]\n",
      " [1 1 1 1]\n",
      " [1 1 1 1]]\n",
      "B2: 2\n",
      "B3: (4, 4)\n",
      "B4: 16\n",
      "B5: int64\n",
      "B6: 8\n",
      "B7: 128\n"
     ]
    }
   ],
   "source": [
    "# DO NOT MODIFY !!!\n",
    "print(\"B1:\\n\",B1)\n",
    "print(\"B2:\",B2)\n",
    "print(\"B3:\",B3)\n",
    "print(\"B4:\",B4)\n",
    "print(\"B5:\",B5)\n",
    "print(\"B6:\",B6)\n",
    "print(\"B7:\",B7)"
   ]
  },
  {
   "cell_type": "markdown",
   "metadata": {},
   "source": [
    "__Review Array Indexing__\n",
    "\n",
    "As with regular Python arrays, __ndarrays__ can be indexed the same as in Python, __array[__ _index_ __]__. Array indexing is the same as accessing an array element -- you refer to the element's index number. \n",
    "\n",
    "__REMEMBER: Array indexes start with 0 !__\n",
    "\n",
    "w3schools.com has some good information on NumPy Array Indexing:\n",
    "- https://www.w3schools.com/python/numpy_array_indexing.asp\n",
    "        \n",
    "Let's create an array and and do some indexing ...\n",
    "\n",
    "TERMINOLOGY CLARIFICATION FOR THESE QUESTIONS:\n",
    "- index 5 = array[5]\n",
    "- element 5 = array[4]\n",
    "\n",
    "__ARRAY INDEXING__"
   ]
  },
  {
   "cell_type": "markdown",
   "metadata": {},
   "source": [
    "<span style=\"color:blue\">\n",
    "    8. Create a <strong>NumPy</strong> array <strong>B8</strong> using <strong>arange</strong> with values <strong>5 - 15 (inclusive)</strong>. <br>\n",
    "    9. Set <strong>B9</strong> = the <strong>1st</strong> element in B8. <br>\n",
    "    10. Set <strong>B10</strong> = the <strong>9th</strong> element in B8. <br> \n",
    "    11. Set <strong>B11</strong> =  the <strong>9th</strong> element of B8 using <strong>negative indexing</strong>. <br>\n",
    "    12. Set <strong>B12</strong> =  <strong>every other element</strong> of B8 (starting with the 1st element). <br>  \n",
    "    13. Set <strong>B13</strong> =  B8 in <strong>reverse order</strong> using <strong>negative indexing</strong> [DO NOT USE reverse() METHOD!]<br>\n",
    "    14. Set <strong>B14</strong> = the <strong>5th thru 8th (inclusive)</strong> element of B8\n",
    "</span>"
   ]
  },
  {
   "cell_type": "code",
   "execution_count": 93,
   "metadata": {},
   "outputs": [],
   "source": [
    "# INSERT CODE FOR STEPS 8 - 14\n",
    "import numpy as np\n",
    "B8 = np.arange(5,16)\n",
    "B9 = B8[0]\n",
    "B10 = B8[9]\n",
    "B11 = B8[-2]\n",
    "B12 = []\n",
    "B13 = []\n",
    "for i in range(0,B8.size,2):\n",
    "    B12.append(B8[i])\n",
    "for i in range(len(B8)-1,-1, -1):\n",
    "    B13.append(B8[i])\n",
    "B14 = np.array(B8[5:9])"
   ]
  },
  {
   "cell_type": "code",
   "execution_count": 91,
   "metadata": {},
   "outputs": [
    {
     "name": "stdout",
     "output_type": "stream",
     "text": [
      "B8:\n",
      " [ 5  6  7  8  9 10 11 12 13 14 15]\n",
      "B9:\n",
      " 5\n",
      "B10:\n",
      " 14\n",
      "B11:\n",
      " 14\n",
      "B12:\n",
      " [5, 7, 9, 11, 13, 15]\n",
      "B13:\n",
      " [15, 14, 13, 12, 11, 10, 9, 8, 7, 6, 5]\n",
      "B14:\n",
      " [10 11 12 13]\n"
     ]
    }
   ],
   "source": [
    "# DO NOT MODIFY !!!\n",
    "print(\"B8:\\n\",B8)\n",
    "print(\"B9:\\n\",B9)\n",
    "print(\"B10:\\n\",B10)\n",
    "print(\"B11:\\n\",B11)\n",
    "print(\"B12:\\n\",B12)\n",
    "print(\"B13:\\n\",B13)\n",
    "print(\"B14:\\n\",B14)"
   ]
  },
  {
   "cell_type": "markdown",
   "metadata": {},
   "source": [
    "__Review Array Slicing__\n",
    "\n",
    "As with regular Python arrays, __ndarrays__ can be sliced using the extended Python slicing syntax, __array[__   _start:end:step_ __]__. \n",
    "\n",
    "w3schools.com has some good information on NumPy Array Slicing:\n",
    "- https://www.w3schools.com/python/numpy_array_slicing.asp\n",
    "        \n",
    "Let's create an array and do some slicing ...\n",
    "\n",
    "__ARRAY SLICING__"
   ]
  },
  {
   "cell_type": "markdown",
   "metadata": {},
   "source": [
    "<span style=\"color:blue\">\n",
    "    15. Create a <strong>5 x 5 NumPy</strong> array <strong>B15</strong> using values <strong>[[1,2,3,4,5],[6,7,8,9,10],[11,12,13,12,11],[10,9,8,7,6],[5,4,3,2,1]]</strong>. <br>\n",
    "    16. Set <strong>B16</strong> = the <strong>shape</strong> of B15 <br>\n",
    "    17. Set <strong>B17</strong> = the <strong>2nd row</strong> of B15. <br> \n",
    "    18. Set <strong>B18</strong> = the <strong>4th column</strong> of B15. <br>\n",
    "    19. Set <strong>B19</strong> = the <strong>central element</strong> in B15.<br>\n",
    "</span>"
   ]
  },
  {
   "cell_type": "code",
   "execution_count": 106,
   "metadata": {},
   "outputs": [],
   "source": [
    "# INSERT CODE FOR STEPS 15 - 19\n",
    "import numpy as np\n",
    "B15 = np.array([[1,2,3,4,5],[6,7,8,9,10],[11,12,13,12,11],[10,9,8,7,6],[5,4,3,2,1]])\n",
    "B16 = B15.shape\n",
    "B17 = np.array(B15[1,0:5])\n",
    "B18 = np.array(B15[0:5,3])\n",
    "B19 = B15[(B15.size%2+1), (B15.size%2+1)]"
   ]
  },
  {
   "cell_type": "code",
   "execution_count": 107,
   "metadata": {},
   "outputs": [
    {
     "name": "stdout",
     "output_type": "stream",
     "text": [
      "B15:\n",
      " [[ 1  2  3  4  5]\n",
      " [ 6  7  8  9 10]\n",
      " [11 12 13 12 11]\n",
      " [10  9  8  7  6]\n",
      " [ 5  4  3  2  1]]\n",
      "B15 dimensions: (5, 5)\n",
      "ROW 2:\n",
      " [ 6  7  8  9 10]\n",
      "COL 4:\n",
      " [ 4  9 12  7  2]\n",
      "CENTER:\n",
      " 13\n"
     ]
    }
   ],
   "source": [
    "# DO NOT MODIFY !!!\n",
    "print(\"B15:\\n\",B15)\n",
    "print(\"B15 dimensions:\", B16)\n",
    "print(\"ROW 2:\\n\",B17)\n",
    "print(\"COL 4:\\n\",B18)\n",
    "print(\"CENTER:\\n\",B19)"
   ]
  },
  {
   "cell_type": "markdown",
   "metadata": {},
   "source": [
    "__Review Array Shaping__\n",
    "\n",
    "The shape of an array is the number of elements in each dimension -- this is the __shape__ attribute we looked at earlier. In NumPy, you can __reshape__ an array. Reshaping an array allows you to add or remove dimensions or change the number of elements in each dimension. A list of shape manipulation routines can be found on the NumPy API reference website: \n",
    "- https://numpy.org/doc/stable/reference/arrays.ndarray.html#shape-manipulation\n",
    "\n",
    "w3schools.com has some good information on NumPy Array Reshaping, as well:\n",
    "- https://www.w3schools.com/python/numpy_array_reshape.asp\n",
    "        \n",
    "Let's create an array and do some reshaping ...\n",
    "\n",
    "__ARRAY SHAPING__"
   ]
  },
  {
   "cell_type": "markdown",
   "metadata": {},
   "source": [
    "<span style=\"color:blue\">\n",
    "20. Create a <strong>NumPy</strong> array <strong>B20</strong> using <strong>arange</strong> with values <strong>1 - 16 (inclusive)</strong> and <strong>reshape</strong> it into a 2D <strong>4 x 4</strong> array. <br>\n",
    "21. Create a <strong>NumPy</strong> array <strong>B21</strong> using <strong>arange</strong> with values <strong>1 - 12 (inclusive)</strong> and <strong>reshape</strong> it into a <strong>3D 2 x 3 x 2</strong> array.<br>\n",
    "23. Create a <strong>2D 3 x 4 NumPy</strong> array <strong>B22</strong> with values <strong>[[1,1,1,1],[2,2,2,2],[3,3,3,3]]</strong> and <strong>reshape</strong> it into a <strong>3D 2 x 3 x 2</strong> array.<br>    \n",
    "24. Create a  <strong>2D 2 x 3 NumPy</strong> array <strong>B23</strong> using with values <strong>[[1,1,1],[2,2,2]]</strong> and <strong>reshape</strong> it into a <strong>1D array</strong>.[You <strong>MUST</strong> use <strong>reshape(?)</strong> to do the \"flattening\". Do <strong>NOT</strong> use flatten().]<br> \n",
    "25. Create a <strong>2D 3 x 3 NumPy</strong> array <strong>B8\\24</strong> using with values <strong>[[1,2,3],[4,5,6],[7,8,9]]</strong> and <strong>reshape</strong> it into a <strong>1D array</strong>.[Use the <strong>flatten()</strong> method]<br>\n",
    "</span>"
   ]
  },
  {
   "cell_type": "code",
   "execution_count": 37,
   "metadata": {},
   "outputs": [],
   "source": [
    "# NOTE: You can create & reshape in a single command. Ex. B = np.arange(1,5).reshape((2,2))\n",
    "\n",
    "# INSERT CODE FOR STEPS 20 - 24\n",
    "import numpy as np \n",
    "B20 = np.arange(1,17).reshape(4,4)\n",
    "B21 = np.arange(1,13).reshape((2,3,2))\n",
    "B22 = np.array([[1,1,1,1],[2,2,2,2],[3,3,3,3]]).reshape(2,3,2)\n",
    "B23 = np.array([[1,1,1],[2,2,2]]).reshape((6,))\n",
    "B24 = np.array([[1,2,3],[4,5,6],[7,8,9]]).flatten()"
   ]
  },
  {
   "cell_type": "code",
   "execution_count": 38,
   "metadata": {},
   "outputs": [
    {
     "name": "stdout",
     "output_type": "stream",
     "text": [
      "B20:\n",
      " [[ 1  2  3  4]\n",
      " [ 5  6  7  8]\n",
      " [ 9 10 11 12]\n",
      " [13 14 15 16]]\n",
      "B21:\n",
      " [[[ 1  2]\n",
      "  [ 3  4]\n",
      "  [ 5  6]]\n",
      "\n",
      " [[ 7  8]\n",
      "  [ 9 10]\n",
      "  [11 12]]]\n",
      "B22:\n",
      " [[[1 1]\n",
      "  [1 1]\n",
      "  [2 2]]\n",
      "\n",
      " [[2 2]\n",
      "  [3 3]\n",
      "  [3 3]]]\n",
      "B23:\n",
      " [1 1 1 2 2 2]\n",
      "B24:\n",
      " [1 2 3 4 5 6 7 8 9]\n"
     ]
    }
   ],
   "source": [
    "# DO NOT MODIFY !!!\n",
    "print(\"B20:\\n\",B20)\n",
    "print(\"B21:\\n\",B21)\n",
    "print(\"B22:\\n\",B22)\n",
    "print(\"B23:\\n\",B23)\n",
    "print(\"B24:\\n\",B24)"
   ]
  },
  {
   "cell_type": "markdown",
   "metadata": {},
   "source": [
    "__Review Joining and Splitting__\n",
    "\n",
    "Joining simply means putting 2 or more arrays together into a single array using the __concatenation()__ function.  A list of array manipulation routines can be found on the NumPy API reference website: \n",
    "\n",
    "- Joining:   https://numpy.org/doc/stable/reference/routines.array-manipulation.html#joining-arrays\n",
    "- Splitting: https://numpy.org/doc/stable/reference/routines.array-manipulation.html#splitting-arrays\n",
    "\n",
    "Here are a few joining functions:\n",
    "\n",
    "- concatenate(...)  ~ join a sequence of arrays along an existing axis\n",
    "- stack(...)        ~ join a sequence of arrays along a new axis.\n",
    "- vstack(tup)       ~ stack arrays in sequence vertically (row wise).\n",
    "- hstack(tup)       ~ stack arrays in sequence horizontally (column wise).\n",
    "- column_stack(tup) ~ stack 1-D arrays as columns into a 2-D array.\n",
    "- row_stack(tup)    ~ stack arrays in sequence vertically (row wise).\n",
    "\n",
    "Here are a few splitting functions:\n",
    "\n",
    "- array_split(...) ~ split an array into multiple sub-arrays.\n",
    "- hsplit(...)      ~ split an array into multiple sub-arrays horizontally (column-wise).\n",
    "- vsplit(...)      ~ split an array into multiple sub-arrays vertically (row-wise).\n",
    "\n",
    "w3schools.com has some good information on NumPy Array Join & Split, as well:\n",
    "\n",
    "- Join:  https://www.w3schools.com/python/numpy_array_join.asp\n",
    "- Split: https://www.w3schools.com/python/numpy_array_split.asp\n",
    "\n",
    "Let's do some joining and splitting ...\n",
    "\n",
    "__ARRAY JOINING__"
   ]
  },
  {
   "cell_type": "markdown",
   "metadata": {},
   "source": [
    "<span style=\"color:blue\">\n",
    "    25. Create a <strong>NumPy</strong> array <strong>B25</strong> using <strong>arange</strong> with values <strong>1 - 4 (inclusive)</strong>. <br>\n",
    "    26. Create a <strong>NumPy</strong> array <strong>B26</strong> using <strong>arange</strong> with values <strong>9 - 6 (inclusive)</strong>. <br>\n",
    "    27. Create array <strong>B27</strong> by <strong>concatenating</strong> arrays <strong>B26 and B25</strong>. <br>   \n",
    "    28. Create array <strong>B28</strong> using <strong>vertical stacking</strong> to concatenate arrays <strong>B25 and B26</strong>. <br>\n",
    "    29. Create array <strong>B29</strong> using <strong>horizonal stacking</strong> to concatenate arrays <strong>B25 with itself (B25)</strong>. <br>\n",
    "    30. Create array <strong>B30</strong> using <strong>column stacking</strong> to concatenate arrays <strong>B26 and B25</strong>.\n",
    "</span>"
   ]
  },
  {
   "cell_type": "code",
   "execution_count": 44,
   "metadata": {},
   "outputs": [],
   "source": [
    "# INSERT CODE FOR STEPS 25 - 30\n",
    "import numpy as np\n",
    "B25 = np.arange(1,5)\n",
    "B26 = np.arange(6,10)\n",
    "B27 = np.concatenate((B25,B26))\n",
    "B28 = np.stack((B25,B26))\n",
    "B29 = np.hstack((B25,B25))\n",
    "B30 = np.vstack((B26,B25))"
   ]
  },
  {
   "cell_type": "code",
   "execution_count": 45,
   "metadata": {},
   "outputs": [
    {
     "name": "stdout",
     "output_type": "stream",
     "text": [
      "B25:\n",
      " [1 2 3 4]\n",
      "B26:\n",
      " [6 7 8 9]\n",
      "B27:\n",
      " [1 2 3 4 6 7 8 9]\n",
      "B28:\n",
      " [[1 2 3 4]\n",
      " [6 7 8 9]]\n",
      "B29:\n",
      " [1 2 3 4 1 2 3 4]\n",
      "B30:\n",
      " [[6 7 8 9]\n",
      " [1 2 3 4]]\n"
     ]
    }
   ],
   "source": [
    "# DO NOT MODIFY !!!\n",
    "print(\"B25:\\n\",B25)\n",
    "print(\"B26:\\n\",B26)\n",
    "print(\"B27:\\n\",B27)\n",
    "print(\"B28:\\n\",B28)\n",
    "print(\"B29:\\n\",B29)\n",
    "print(\"B30:\\n\",B30)"
   ]
  },
  {
   "cell_type": "markdown",
   "metadata": {},
   "source": [
    "__ARRAY SPLITTING__"
   ]
  },
  {
   "cell_type": "markdown",
   "metadata": {},
   "source": [
    "<span style=\"color:blue\">\n",
    "31. Create a <strong>1D NumPy</strong> array <strong>B31</strong> using <strong>arange</strong> with values <strong>1 - 9 (inclusive)</strong><br>\n",
    "32. Create a <strong>NumPy</strong> array <strong>B32</strong> by splitting array <strong>B31</strong> so that there are <strong>3 elements</strong> in each subarray. <br>\n",
    "33. Create a <strong>NumPy</strong> array <strong>B33</strong> with values <strong>[[1,1,1,1],[2,2,2,2],[3,3,3,3],[4,4,4,4]]</strong> <br>\n",
    "34. Create a <strong>NumPy</strong> array <strong>B34</strong> by splitting <strong>B33</strong> horizontally into <strong>2 2D arrays</strong>. <br>\n",
    "35. Create a <strong>NumPy</strong> array <strong>B35</strong> by splitting <strong>B33</strong> vertically into <strong>2 2D arrays</strong>.   \n",
    "</span>"
   ]
  },
  {
   "cell_type": "code",
   "execution_count": 46,
   "metadata": {},
   "outputs": [],
   "source": [
    "# INSERT CODE FOR STEPS 31 - 35\n",
    "import numpy as np\n",
    "B31 = np.arange(1,10)\n",
    "B32 = np.array_split(B31,3)\n",
    "B33 = np.array([[1,1,1,1],[2,2,2,2],[3,3,3,3],[4,4,4,4]])\n",
    "B34 = np.hsplit(B33, 2) \n",
    "B35 = np.vsplit(B33, 2)"
   ]
  },
  {
   "cell_type": "code",
   "execution_count": 47,
   "metadata": {},
   "outputs": [
    {
     "name": "stdout",
     "output_type": "stream",
     "text": [
      "B31:\n",
      " [1 2 3 4 5 6 7 8 9]\n",
      "B32:\n",
      " [array([1, 2, 3]), array([4, 5, 6]), array([7, 8, 9])]\n",
      "B33:\n",
      " [[1 1 1 1]\n",
      " [2 2 2 2]\n",
      " [3 3 3 3]\n",
      " [4 4 4 4]]\n",
      "B34:\n",
      " [array([[1, 1],\n",
      "       [2, 2],\n",
      "       [3, 3],\n",
      "       [4, 4]]), array([[1, 1],\n",
      "       [2, 2],\n",
      "       [3, 3],\n",
      "       [4, 4]])]\n",
      "B35:\n",
      " [array([[1, 1, 1, 1],\n",
      "       [2, 2, 2, 2]]), array([[3, 3, 3, 3],\n",
      "       [4, 4, 4, 4]])]\n"
     ]
    }
   ],
   "source": [
    "# DO NOT MODIFY !!!\n",
    "print(\"B31:\\n\",B31)\n",
    "print(\"B32:\\n\",B32)\n",
    "print(\"B33:\\n\",B33)\n",
    "print(\"B34:\\n\",B34)\n",
    "print(\"B35:\\n\",B35)"
   ]
  },
  {
   "cell_type": "markdown",
   "metadata": {},
   "source": [
    "## Step C: Universal Functions (ufuncs) (12 pts)\n",
    "### Add, Subtract, Multiply and Divide"
   ]
  },
  {
   "cell_type": "markdown",
   "metadata": {},
   "source": [
    "__Review UFUNCS__\n",
    "\n",
    "UFUNCS stands for \"Universal Functions\" which are NumPy functions that operat on the __ndarray__ object.\n",
    "UFUNCS are used to implement _vectorization_ in NumPy which is faster than iterating over elements. There are over 60 univeral functions defined in NumPy, however here we will only look at a small subset -- Math operations. A list of Math-related Universal functions (ufunc) can be found on the NumPy API reference website: \n",
    "- https://numpy.org/doc/stable/reference/ufuncs.html#math-operations\n",
    "        \n",
    "Here are a just a few:\n",
    "- add(...)      ~ add arguments element-wise\n",
    "- subtract(...) ~ subtract arguments element-wise\n",
    "- multiply(...) ~ multiple arguments element-wise\n",
    "- divide(...)   ~ return a true division of the inputs element-wise\n",
    "- mod(...)      ~ return element-wise remainder of division\n",
    "\n",
    "Let's create an array and do some math operations  ..."
   ]
  },
  {
   "cell_type": "markdown",
   "metadata": {},
   "source": [
    "<span style=\"color:blue\">\n",
    "1. Create a <strong>4 element NumPy array</strong> named <strong>C1</strong> with values <strong>[4, 8, 5, 9]</strong>. <br>\n",
    "2. Create a <strong>4 element NumPy array</strong> named <strong>C2</strong> with values <strong>[7, 13, 12, 20]</strong>. <br>\n",
    "3. Create a <strong>NumPy</strong> array <strong>C3</strong> by adding <strong>C1 + C2</strong>.<br>\n",
    "4. Create a <strong>NumPy</strong> array <strong>C4</strong> by subtracting <strong>C1 - C2</strong>.<br>   \n",
    "5. Create a <strong>NumPy</strong> array <strong>C5</strong> by multiplying <strong>C1 x C2 </strong>.<br>\n",
    "6. Create a <strong>NumPy</strong> array <strong>C6</strong> by getting the remainder of <strong>C2 / C1</strong>\n",
    "</span>"
   ]
  },
  {
   "cell_type": "code",
   "execution_count": 53,
   "metadata": {},
   "outputs": [],
   "source": [
    "# INSERT CODE FOR STEPS 1 - 6\n",
    "import numpy as np\n",
    "C1 = np.array([4, 8, 5, 9])\n",
    "C2 = np.array([7,13,12,20])\n",
    "C3 = np.add(C1, C2)\n",
    "C4 = np.subtract(C1,C2)\n",
    "C5 = np.multiply(C1,C2)\n",
    "C6 = np.mod(C2,C1)"
   ]
  },
  {
   "cell_type": "code",
   "execution_count": 54,
   "metadata": {},
   "outputs": [
    {
     "name": "stdout",
     "output_type": "stream",
     "text": [
      "C1:\n",
      " [4 8 5 9]\n",
      "C2:\n",
      " [ 7 13 12 20]\n",
      "C3:\n",
      " [11 21 17 29]\n",
      "C4:\n",
      " [ -3  -5  -7 -11]\n",
      "C5:\n",
      " [ 28 104  60 180]\n",
      "C6:\n",
      " [3 5 2 2]\n"
     ]
    }
   ],
   "source": [
    "# DO NOT MODIFY !!!\n",
    "print(\"C1:\\n\",C1)\n",
    "print(\"C2:\\n\",C2)\n",
    "print(\"C3:\\n\",C3)\n",
    "print(\"C4:\\n\",C4)\n",
    "print(\"C5:\\n\",C5)\n",
    "print(\"C6:\\n\",C6)"
   ]
  },
  {
   "cell_type": "markdown",
   "metadata": {},
   "source": [
    "## Step D: Statistics (8 pts)"
   ]
  },
  {
   "cell_type": "markdown",
   "metadata": {},
   "source": [
    "__Review Statistics Functions__\n",
    "\n",
    "NumPy is used quite a bit for statistics, so let's take a look at some of the many statistics functions available. A list of Statistics functions can be found on the NumPy API reference website: \n",
    "- https://numpy.org/doc/stable/reference/routines.statistics.html\n",
    "        \n",
    "Here are just a few:\n",
    "- amin(...)    ~ return the minimum of an array or minimum along an axis.\n",
    "- amax(...)    ~ return the maximum of an array or maximum along an axis.\n",
    "- median(...)  ~ compute the median along the specified axis.\n",
    "- average(...) ~ compute the weighted average along the specified axis.\n",
    "- mean(...)    ~ compute the arithmetic mean along the specified axis.\n",
    "- std(...)     ~ compute the standard deviation along the specified axis.\n",
    "- var(...)     ~ Compute the variance along the specified axis.\n",
    "\n",
    "Let's create an array and do some statistical operations  ...\n",
    "\n",
    "__MINIMUM, MAXIMUM, AVERAGE, MEAN, STD DEV and VAR__"
   ]
  },
  {
   "cell_type": "markdown",
   "metadata": {},
   "source": [
    "<span style=\"color:blue\">\n",
    "    1. Create a <strong>NumPy</strong> array <strong>D1</strong> using <strong>array</strong> using the list of values <strong>[2,7,90,-1,-6,33,0,4]</strong> <br>\n",
    "    2. Set <strong>D2</strong> = the <strong>minimum value</strong> in <strong>D1</strong>.<br>  \n",
    "    3. Set <strong>D3</strong> =  the <strong>maximum value</strong> in <strong>D1</strong>.<br> \n",
    "    4. Set <strong>D4</strong> =  the <strong>median value</strong> of <strong>D1</strong>.<br>\n",
    "    5. Set <strong>D5</strong> =  the <strong>average value</strong> of <strong>D1</strong>.<br>\n",
    "    6. Set <strong>D6</strong> =  the <strong>mean value</strong> in <strong>D1</strong>.<br>\n",
    "    7. Set <strong>D7</strong> =  the <strong>standard deviation</strong> of the values in <strong>D1</strong>.<br>\n",
    "    8. Set <strong>D8</strong> =  the <strong>variance</strong> of the values in <strong>D1</strong>.\n",
    "</span>"
   ]
  },
  {
   "cell_type": "code",
   "execution_count": 57,
   "metadata": {},
   "outputs": [],
   "source": [
    "# INSERT CODE FOR STEPS 1 - 7\n",
    "import numpy as np\n",
    "D1 = np.array([2,7,90,-1,-6,33,0,4])\n",
    "D2 = np.amin(D1)\n",
    "D3 = np.amax(D1)\n",
    "D4 = np.median(D1)\n",
    "D5 = np.average(D1)\n",
    "D6 = np.mean(D1)\n",
    "D7 = np.std(D1)\n",
    "D8 = np.var(D1)"
   ]
  },
  {
   "cell_type": "code",
   "execution_count": 58,
   "metadata": {},
   "outputs": [
    {
     "name": "stdout",
     "output_type": "stream",
     "text": [
      "D1:  [ 2  7 90 -1 -6 33  0  4]\n",
      "MIN:  -6\n",
      "MAX:  90\n",
      "MEDIAN:  3.0\n",
      "AVERAGE:  16.125\n",
      "MEAN:  16.125\n",
      "STD DEV:  30.030973593941305\n",
      "VARIANCE: 901.859375\n"
     ]
    }
   ],
   "source": [
    "# DO NOT MODIFY !!!\n",
    "print(\"D1: \",D1)\n",
    "print(\"MIN: \",D2)\n",
    "print(\"MAX: \",D3)\n",
    "print(\"MEDIAN: \",D4)\n",
    "print(\"AVERAGE: \",D5)\n",
    "print(\"MEAN: \", D6)\n",
    "print(\"STD DEV: \",D7)\n",
    "print(\"VARIANCE:\", D8)"
   ]
  },
  {
   "cell_type": "code",
   "execution_count": 24,
   "metadata": {},
   "outputs": [
    {
     "name": "stdout",
     "output_type": "stream",
     "text": [
      "THE END!\n"
     ]
    }
   ],
   "source": [
    "print(\"THE END!\")"
   ]
  }
 ],
 "metadata": {
  "kernelspec": {
   "display_name": "Python 3",
   "language": "python",
   "name": "python3"
  },
  "language_info": {
   "codemirror_mode": {
    "name": "ipython",
    "version": 3
   },
   "file_extension": ".py",
   "mimetype": "text/x-python",
   "name": "python",
   "nbconvert_exporter": "python",
   "pygments_lexer": "ipython3",
   "version": "3.8.8"
  }
 },
 "nbformat": 4,
 "nbformat_minor": 4
}
