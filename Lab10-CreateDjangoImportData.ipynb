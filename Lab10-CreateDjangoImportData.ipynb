{
 "cells": [
  {
   "cell_type": "markdown",
   "id": "552ca667",
   "metadata": {},
   "source": [
    "# Lab 10: Creating Django Import Data"
   ]
  },
  {
   "cell_type": "markdown",
   "id": "049f7c2a-b20a-48a9-9bf0-02b808e054d8",
   "metadata": {},
   "source": [
    "### Author: <font color='red'> Charles Moore </font>"
   ]
  },
  {
   "cell_type": "markdown",
   "id": "7ca38284-7d87-4d88-af69-cd5d4f521a97",
   "metadata": {},
   "source": [
    "### PART A - Convert 'classic_books.json' to Django 'fixture' file format (20 points)"
   ]
  },
  {
   "cell_type": "markdown",
   "id": "c053d9df",
   "metadata": {},
   "source": [
    "#### Create Django Fixture file for data import"
   ]
  },
  {
   "cell_type": "markdown",
   "id": "f77aa132-84e6-4aeb-ac39-dcce8e074dd7",
   "metadata": {},
   "source": [
    "<div class=\"alert alert-info\">\n",
    "    You will start with same the <strong>classic_books.json</strong> file (provided) as previously used in Lab 07 <br>\n",
    "    <strong>Note:</strong> You can open the file in Jupyter Notebook, but it will look quite different than if you open it in a reqular editor.<br><br>\n",
    "    During PART A of this lab, you need to:<br>\n",
    "    - Read file <strong>classic_books.json</strong><br>\n",
    "    - Convert this file to the format required for a Django <strong>fixture</strong> file<br>\n",
    "    - Write the newly formatted data to file <strong>book_import_data.json</strong><br><br>\n",
    "    \n",
    "REFERENCE: https://docs.djangoproject.com/en/3.2/howto/initial-data/\n",
    "</div>"
   ]
  },
  {
   "cell_type": "markdown",
   "id": "7922e675-f800-4ea6-bf07-b25683b08d33",
   "metadata": {},
   "source": [
    "#### Read JSON file 'classic_books.json' using Python"
   ]
  },
  {
   "cell_type": "markdown",
   "id": "a03daa47-3e5e-4ad9-a0dc-6644420b8331",
   "metadata": {},
   "source": [
    "<div class=\"alert alert-warning\">\n",
    "    <strong>IMPORTANT: </strong>Make sure file <strong>classic_books.json</strong> is located in the current directory.<br>\n",
    "    - The file is the JSON version of the CSV file created in the previous step.<br>\n",
    "    - There are 4 keys: rank, title, author, year\n",
    "</div>"
   ]
  },
  {
   "cell_type": "markdown",
   "id": "68feb85f-f236-4a84-8e6c-d7bc84e63515",
   "metadata": {},
   "source": [
    "JSON can easily be read or writen in Python by using a Dictionary object in Python (read into/write from)<br> \n",
    "To read a JSON file into a Python dictionary, you use the __json.load()__ method<br>\n",
    "- json.load(...) ~ deserialize a fp (.read-supporting text file containing JSON) into a Python object\n",
    "\n",
    "Additional information about Python & JSON can be found here:<br>\n",
    "- https://stackabuse.com/reading-and-writing-json-to-a-file-in-python/ <br>\n",
    "- https://docs.python.org/3/library/json.html \n"
   ]
  },
  {
   "cell_type": "code",
   "execution_count": 2,
   "id": "059d9da0-1d31-4a1b-8781-d106c2b80154",
   "metadata": {},
   "outputs": [],
   "source": [
    "# Import necessary libraries\n",
    "import json"
   ]
  },
  {
   "cell_type": "markdown",
   "id": "cfd9750b-6ce1-4373-9c80-f1977b52f756",
   "metadata": {},
   "source": [
    "<span style=\"color:blue\">\n",
    "    1. Read file <strong>classic_books.json</strong> <br> \n",
    "    2. Use the <strong>json.load()</strong> function to parse the JSON into a variable named <strong>classics_data</strong>.\n",
    "</span>"
   ]
  },
  {
   "cell_type": "code",
   "execution_count": 5,
   "id": "8b1865c3",
   "metadata": {},
   "outputs": [],
   "source": [
    "# Read JSON file 'classic_books.json' using Python\n",
    "\n",
    "# INSERT CODE FOR STEPS 1-2\n",
    "with open('classic_books.json') as json_file:\n",
    "    classics_data = json.load(json_file)"
   ]
  },
  {
   "cell_type": "code",
   "execution_count": 6,
   "id": "c81283ed",
   "metadata": {},
   "outputs": [
    {
     "name": "stdout",
     "output_type": "stream",
     "text": [
      "<class 'list'>\n",
      "\n",
      "[{'rank': 1, 'title': 'Pride and Prejudice', 'author': 'Jane Austen', 'year': 1813}, {'rank': 2, 'title': 'To Kill a Mockingbird', 'author': 'Harper Lee', 'year': 1960}, {'rank': 3, 'title': 'The Great Gatsby', 'author': 'F. Scott Fitzgerald', 'year': 1925}, {'rank': 4, 'title': 'One Hundred Years of Solitude', 'author': 'Gabriel Garcia Marquez', 'year': 1967}, {'rank': 5, 'title': 'In Cold Blood', 'author': 'Truman Capote', 'year': 1965}, {'rank': 6, 'title': 'Wide Sargasso Sea', 'author': 'Jean Rhys', 'year': 1966}, {'rank': 7, 'title': 'Brave New World', 'author': 'Aldous Huxley', 'year': 1932}, {'rank': 8, 'title': 'I Capture The Castle', 'author': 'Dodie Smith', 'year': 1948}, {'rank': 9, 'title': 'Jane Eyre', 'author': 'Charlotte Bronte', 'year': 1847}, {'rank': 10, 'title': 'Crime and Punishment', 'author': 'Fyodor Dostoevsky', 'year': 1866}]\n"
     ]
    }
   ],
   "source": [
    "# DO NOT MODIFY !!!\n",
    "print(type(classics_data))\n",
    "print()\n",
    "print(classics_data)"
   ]
  },
  {
   "cell_type": "markdown",
   "id": "a835b716-ff10-4312-beaf-4015607810b0",
   "metadata": {},
   "source": [
    "<span style=\"color:blue\">\n",
    "    3. Use a <strong>for-loop</strong> to iterate through the contents of <strong>classics_data</strong> <br> \n",
    "</span>"
   ]
  },
  {
   "cell_type": "code",
   "execution_count": 22,
   "id": "2522b099",
   "metadata": {},
   "outputs": [
    {
     "name": "stdout",
     "output_type": "stream",
     "text": [
      "Rank: 1\n",
      "Title: Pride and Prejudice\n",
      "Author: Jane Austen\n",
      "Year: 1813\n",
      "\n",
      "Rank: 2\n",
      "Title: To Kill a Mockingbird\n",
      "Author: Harper Lee\n",
      "Year: 1960\n",
      "\n",
      "Rank: 3\n",
      "Title: The Great Gatsby\n",
      "Author: F. Scott Fitzgerald\n",
      "Year: 1925\n",
      "\n",
      "Rank: 4\n",
      "Title: One Hundred Years of Solitude\n",
      "Author: Gabriel Garcia Marquez\n",
      "Year: 1967\n",
      "\n",
      "Rank: 5\n",
      "Title: In Cold Blood\n",
      "Author: Truman Capote\n",
      "Year: 1965\n",
      "\n",
      "Rank: 6\n",
      "Title: Wide Sargasso Sea\n",
      "Author: Jean Rhys\n",
      "Year: 1966\n",
      "\n",
      "Rank: 7\n",
      "Title: Brave New World\n",
      "Author: Aldous Huxley\n",
      "Year: 1932\n",
      "\n",
      "Rank: 8\n",
      "Title: I Capture The Castle\n",
      "Author: Dodie Smith\n",
      "Year: 1948\n",
      "\n",
      "Rank: 9\n",
      "Title: Jane Eyre\n",
      "Author: Charlotte Bronte\n",
      "Year: 1847\n",
      "\n",
      "Rank: 10\n",
      "Title: Crime and Punishment\n",
      "Author: Fyodor Dostoevsky\n",
      "Year: 1866\n",
      "\n"
     ]
    }
   ],
   "source": [
    "# Iterating through the classics_data\n",
    "\n",
    "# INSERT CODE FOR STEP 3\n",
    "for d in range(len(classics_data)):\n",
    "    print('Rank: ' + str(classics_data[d]['rank']))\n",
    "    print('Title: ' + classics_data[d]['title'])\n",
    "    print('Author: ' + classics_data[d]['author'])\n",
    "    print('Year: ' + str(classics_data[d]['year']))\n",
    "    print()"
   ]
  },
  {
   "cell_type": "markdown",
   "id": "355454ac-1b6e-4919-8761-17fe14ed84c2",
   "metadata": {},
   "source": [
    "#### Reformat 'classics_data' into a Django fixture file"
   ]
  },
  {
   "cell_type": "markdown",
   "id": "e9cee495-45ca-4001-925d-2d7808738e0e",
   "metadata": {},
   "source": [
    "<span style=\"color:blue\">\n",
    "    4. Create a list named <strong>books_fixture</strong> containing the <strong>classics_data</strong> reformatted correctly for a Django fixture file<br> \n",
    "    - The <strong>'model'</strong> value must be <strong>'books.Book'</strong><br>\n",
    "    - The <strong>'pk'</strong> value must be a unique integer value starting with value <strong>1</strong> and ending with the value <strong>10</strong><br>\n",
    "    5. Print out the contents of <strong>books_fixture</strong> to help verify your reformatting\n",
    "</span>"
   ]
  },
  {
   "cell_type": "code",
   "execution_count": 52,
   "id": "fd6c625a",
   "metadata": {},
   "outputs": [
    {
     "name": "stdout",
     "output_type": "stream",
     "text": [
      "[{'model': 'books.Book', 'pk': 1, 'fields': {'rank': 1, 'title': 'Pride and Prejudice', 'author': 'Jane Austen', 'year': 1813}}, {'model': 'books.Book', 'pk': 2, 'fields': {'rank': 2, 'title': 'To Kill a Mockingbird', 'author': 'Harper Lee', 'year': 1960}}, {'model': 'books.Book', 'pk': 3, 'fields': {'rank': 3, 'title': 'The Great Gatsby', 'author': 'F. Scott Fitzgerald', 'year': 1925}}, {'model': 'books.Book', 'pk': 4, 'fields': {'rank': 4, 'title': 'One Hundred Years of Solitude', 'author': 'Gabriel Garcia Marquez', 'year': 1967}}, {'model': 'books.Book', 'pk': 5, 'fields': {'rank': 5, 'title': 'In Cold Blood', 'author': 'Truman Capote', 'year': 1965}}, {'model': 'books.Book', 'pk': 6, 'fields': {'rank': 6, 'title': 'Wide Sargasso Sea', 'author': 'Jean Rhys', 'year': 1966}}, {'model': 'books.Book', 'pk': 7, 'fields': {'rank': 7, 'title': 'Brave New World', 'author': 'Aldous Huxley', 'year': 1932}}, {'model': 'books.Book', 'pk': 8, 'fields': {'rank': 8, 'title': 'I Capture The Castle', 'author': 'Dodie Smith', 'year': 1948}}, {'model': 'books.Book', 'pk': 9, 'fields': {'rank': 9, 'title': 'Jane Eyre', 'author': 'Charlotte Bronte', 'year': 1847}}, {'model': 'books.Book', 'pk': 10, 'fields': {'rank': 10, 'title': 'Crime and Punishment', 'author': 'Fyodor Dostoevsky', 'year': 1866}}]\n"
     ]
    }
   ],
   "source": [
    "# Create a books_fixture list with all the classics_data re-formatted correctly for a fixture file\n",
    "# REMEMBER: You MUST add 'model' : 'books.Book' & 'pk' : <int> to each book entry \n",
    "\n",
    "# INSERT CODE FOR STEPS 4-5\n",
    "books_fixture = []\n",
    "for d in range(len(classics_data)):\n",
    "    temp = {}\n",
    "    temp[\"model\"]=\"books.Book\"\n",
    "    temp[\"pk\"]=d+1\n",
    "    temp['fields']={}\n",
    "    temp['fields']['rank']= classics_data[d]['rank']\n",
    "    temp['fields']['title']= classics_data[d]['title']\n",
    "    temp['fields']['author']= classics_data[d]['author']\n",
    "    temp['fields']['year']= classics_data[d]['year']\n",
    "    books_fixture.append(temp)\n",
    "print(books_fixture)"
   ]
  },
  {
   "cell_type": "markdown",
   "id": "b106fc5b-6254-47e3-bdde-7ac881d95c15",
   "metadata": {},
   "source": [
    "#### Write new 'book_import_data.json' file"
   ]
  },
  {
   "cell_type": "markdown",
   "id": "fef36b60-290d-40d5-9085-e88aaebd2fbe",
   "metadata": {},
   "source": [
    "<span style=\"color:blue\">\n",
    "    6. Open file <strong>book_import_data.json</strong><br>\n",
    "    7. Write the contents of <strong>books_fixture</strong> to file <strong>book_import_data.json</strong> as JSON<br> \n",
    "    8. Close file <strong>book_import_data.json</strong>\n",
    "</span>"
   ]
  },
  {
   "cell_type": "code",
   "execution_count": 50,
   "id": "297c2a3e",
   "metadata": {},
   "outputs": [],
   "source": [
    "# Create a new book_import_data.json file formatted as a Django fixture JSON file\n",
    "\n",
    "# INSERT CODE FOR STEP X\n",
    "with open('books_import_data.json','w') as outfile:\n",
    "    json.dump(books_fixture,outfile)"
   ]
  },
  {
   "cell_type": "markdown",
   "id": "e8457d47-dbd6-4aaa-a08d-b281146a45dd",
   "metadata": {},
   "source": [
    "<div class=\"alert alert-warning\">\n",
    "    <strong>IMPORTANT: </strong>Verify you file <strong>book_import_data.json</strong> looks correct.<br>\n",
    "    - There should be a \"model\": \"books.Book\" entry for EVERY book.<br>\n",
    "    - There should be a UNIQUE \"pk\": <int> entry for EVERY book<br>\n",
    "    - The \"fields\": {book data fields} entry should contain all 4 fields associated with a book<br>\n",
    "If this file is incorrectly formatted, PART B of the lab will fail when you try to import this data into the database.\n",
    "</div>"
   ]
  },
  {
   "cell_type": "code",
   "execution_count": 51,
   "id": "bc3279f6",
   "metadata": {},
   "outputs": [
    {
     "name": "stdout",
     "output_type": "stream",
     "text": [
      "[\n",
      "    {\n",
      "        \"model\": \"books.Book\",\n",
      "        \"pk\": 1,\n",
      "        \"fields\": {\n",
      "            \"rank\": 1,\n",
      "            \"title\": \"Pride and Prejudice\",\n",
      "            \"author\": \"Jane Austen\",\n",
      "            \"year\": 1813\n",
      "        }\n",
      "    },\n",
      "    {\n",
      "        \"model\": \"books.Book\",\n",
      "        \"pk\": 2,\n",
      "        \"fields\": {\n",
      "            \"rank\": 2,\n",
      "            \"title\": \"To Kill a Mockingbird\",\n",
      "            \"author\": \"Harper Lee\",\n",
      "            \"year\": 1960\n",
      "        }\n",
      "    },\n",
      "    {\n",
      "        \"model\": \"books.Book\",\n",
      "        \"pk\": 3,\n",
      "        \"fields\": {\n",
      "            \"rank\": 3,\n",
      "            \"title\": \"The Great Gatsby\",\n",
      "            \"author\": \"F. Scott Fitzgerald\",\n",
      "            \"year\": 1925\n",
      "        }\n",
      "    },\n",
      "    {\n",
      "        \"model\": \"books.Book\",\n",
      "        \"pk\": 4,\n",
      "        \"fields\": {\n",
      "            \"rank\": 4,\n",
      "            \"title\": \"One Hundred Years of Solitude\",\n",
      "            \"author\": \"Gabriel Garcia Marquez\",\n",
      "            \"year\": 1967\n",
      "        }\n",
      "    },\n",
      "    {\n",
      "        \"model\": \"books.Book\",\n",
      "        \"pk\": 5,\n",
      "        \"fields\": {\n",
      "            \"rank\": 5,\n",
      "            \"title\": \"In Cold Blood\",\n",
      "            \"author\": \"Truman Capote\",\n",
      "            \"year\": 1965\n",
      "        }\n",
      "    },\n",
      "    {\n",
      "        \"model\": \"books.Book\",\n",
      "        \"pk\": 6,\n",
      "        \"fields\": {\n",
      "            \"rank\": 6,\n",
      "            \"title\": \"Wide Sargasso Sea\",\n",
      "            \"author\": \"Jean Rhys\",\n",
      "            \"year\": 1966\n",
      "        }\n",
      "    },\n",
      "    {\n",
      "        \"model\": \"books.Book\",\n",
      "        \"pk\": 7,\n",
      "        \"fields\": {\n",
      "            \"rank\": 7,\n",
      "            \"title\": \"Brave New World\",\n",
      "            \"author\": \"Aldous Huxley\",\n",
      "            \"year\": 1932\n",
      "        }\n",
      "    },\n",
      "    {\n",
      "        \"model\": \"books.Book\",\n",
      "        \"pk\": 8,\n",
      "        \"fields\": {\n",
      "            \"rank\": 8,\n",
      "            \"title\": \"I Capture The Castle\",\n",
      "            \"author\": \"Dodie Smith\",\n",
      "            \"year\": 1948\n",
      "        }\n",
      "    },\n",
      "    {\n",
      "        \"model\": \"books.Book\",\n",
      "        \"pk\": 9,\n",
      "        \"fields\": {\n",
      "            \"rank\": 9,\n",
      "            \"title\": \"Jane Eyre\",\n",
      "            \"author\": \"Charlotte Bronte\",\n",
      "            \"year\": 1847\n",
      "        }\n",
      "    },\n",
      "    {\n",
      "        \"model\": \"books.Book\",\n",
      "        \"pk\": 10,\n",
      "        \"fields\": {\n",
      "            \"rank\": 10,\n",
      "            \"title\": \"Crime and Punishment\",\n",
      "            \"author\": \"Fyodor Dostoevsky\",\n",
      "            \"year\": 1866\n",
      "        }\n",
      "    }\n",
      "]\n"
     ]
    }
   ],
   "source": [
    "# DO NOT MODIFY !!!\n",
    "json_object = json.dumps(books_fixture, indent = 4) \n",
    "print(json_object)"
   ]
  }
 ],
 "metadata": {
  "kernelspec": {
   "display_name": "Python 3",
   "language": "python",
   "name": "python3"
  },
  "language_info": {
   "codemirror_mode": {
    "name": "ipython",
    "version": 3
   },
   "file_extension": ".py",
   "mimetype": "text/x-python",
   "name": "python",
   "nbconvert_exporter": "python",
   "pygments_lexer": "ipython3",
   "version": "3.8.8"
  }
 },
 "nbformat": 4,
 "nbformat_minor": 5
}
