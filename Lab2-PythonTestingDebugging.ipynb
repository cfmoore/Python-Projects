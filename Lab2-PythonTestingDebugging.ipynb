{
 "cells": [
  {
   "cell_type": "markdown",
   "metadata": {},
   "source": [
    "# Lab1: Python Testing and Debugging"
   ]
  },
  {
   "cell_type": "markdown",
   "metadata": {},
   "source": [
    "## Author: <font color = \"red\">Charles Moore</font>"
   ]
  },
  {
   "cell_type": "markdown",
   "metadata": {},
   "source": [
    "### This Lab will have you try a few Python testing and debugging strategies using Jupyter Notebook. \n",
    "### Read through the information provided and answer each <font color=\"blue\">Question x</font> below.\n",
    "### Insert your code after the <font color=\"red\">Question x - ANSWERS</font> heading in the cell containing <br> '# INSERT YOUR CODE HERE'"
   ]
  },
  {
   "cell_type": "markdown",
   "metadata": {},
   "source": [
    "## Python Testing using Assert statements\n",
    "#### Asserts test a condition, and raise an AssertionError if the condition is False\n",
    "#### Syntax:\n",
    "- **assert &lt;_condition_&gt;, &lt;_error message_&gt;**"
   ]
  },
  {
   "cell_type": "markdown",
   "metadata": {},
   "source": [
    "### <font color='blue'>Question 1 (10 points)</font>\n",
    "1. Create a function named **feet_to_inches(ft)** <br>\n",
    "    1.1 Include an **assert** to check 'ft' is an **int** with error message = 'feet is not an integer' <br>\n",
    "    1.2 Convert 'ft' to 'inches' <br>\n",
    "    1.3 Return the value of 'inches'"
   ]
  },
  {
   "cell_type": "markdown",
   "metadata": {},
   "source": [
    "### <font color=\"red\">Question 1 - ANSWERS</font>"
   ]
  },
  {
   "cell_type": "code",
   "execution_count": 17,
   "metadata": {},
   "outputs": [],
   "source": [
    "\n",
    "\n",
    "def feet_to_inches(ft):\n",
    "    assert type(ft) == int, 'feet is not an integer'\n",
    "    inches = ft*12\n",
    "    return inches\n",
    "\n"
   ]
  },
  {
   "cell_type": "code",
   "execution_count": 18,
   "metadata": {},
   "outputs": [
    {
     "name": "stdout",
     "output_type": "stream",
     "text": [
      "TEST1:  feet_to_inches(10) passed\n",
      "TEST2:  feet_to_inches(2.35) failed\n",
      "TEST2:  feet is not an integer\n",
      "TEST3:  feet_to_inches('ten') failed\n",
      "TEST3:  feet is not an integer\n"
     ]
    }
   ],
   "source": [
    "# DO NOT MODIFY!!!\n",
    "# TEST CASE 1\n",
    "try: \n",
    "    feet_to_inches(10)\n",
    "except AssertionError as msg:\n",
    "    print (\"TEST1: \", \"feet_to_inches(10) failed\")\n",
    "    print (\"TEST1: \", msg)\n",
    "else:\n",
    "    print (\"TEST1: \", \"feet_to_inches(10) passed\")\n",
    "\n",
    "# TEST CASE 2    \n",
    "try: \n",
    "    feet_to_inches(2.35)\n",
    "except AssertionError as msg:\n",
    "    print (\"TEST2: \", \"feet_to_inches(2.35) failed\")\n",
    "    print (\"TEST2: \", msg)   \n",
    "else:\n",
    "    print (\"TEST2: \", \"feet_to_inches(2.35) passed\")\n",
    "      \n",
    "# TEST CASE 3\n",
    "try: \n",
    "    feet_to_inches('ten')\n",
    "except AssertionError as msg:\n",
    "    print (\"TEST3: \", \"feet_to_inches('ten') failed\")  \n",
    "    print (\"TEST3: \", msg)       \n",
    "else:\n",
    "    print (\"TEST3: \", \"feet_to_inches('ten') passed\")           "
   ]
  },
  {
   "cell_type": "markdown",
   "metadata": {},
   "source": [
    "### <font color='blue'>Question 2 (10 points)</font>\n",
    "1. Use the function named **avg_grades(grades)** provided <br>\n",
    "    1.1 Add **assert** to check 'grade' is **greater than or equal to 0** with <br>\n",
    "    error message = 'Invalid grade: [ _grade_ ] is not greater than or equal to 0' <br>\n",
    "   **NOTE:** Your message can be created using concatenated strings, so please **display the BAD _grade_ value** in the assert message\n",
    "2. Define grades1 = [80, 0, 90, 100, 70] \n",
    "3. Define grades2 = [80, -20, 90, 100, 70] "
   ]
  },
  {
   "cell_type": "markdown",
   "metadata": {},
   "source": [
    "### <font color=\"red\">Question 2 - ANSWERS</font>"
   ]
  },
  {
   "cell_type": "code",
   "execution_count": 23,
   "metadata": {},
   "outputs": [],
   "source": [
    "def avg_grades(grades):\n",
    "    total = 0\n",
    "    for grade in grades:\n",
    "        assert grade >= 0, 'Invalid grade: '+str(grade)+' is not greater than or equal to 0'\n",
    "        total += grade\n",
    "    return total / len(grades)\n",
    "\n",
    "grades1 = [\n",
    "    80,\n",
    "    0,\n",
    "    90,\n",
    "    100,\n",
    "    70\n",
    "]\n",
    "\n",
    "grades2 = [\n",
    "    80,\n",
    "    -20,\n",
    "    90,\n",
    "    100,\n",
    "    70\n",
    "]"
   ]
  },
  {
   "cell_type": "code",
   "execution_count": 24,
   "metadata": {},
   "outputs": [
    {
     "name": "stdout",
     "output_type": "stream",
     "text": [
      "TEST1:  avg_grades(grades1) passed\n",
      "TEST2:  avg_grades(grades2) failed\n",
      "TEST2:  Invalid grade: -20 is not greater than or equal to 0\n"
     ]
    }
   ],
   "source": [
    "# DO NOT MODIFY!!!\n",
    "# TEST CASE 1\n",
    "try: \n",
    "    avg_grades(grades1)\n",
    "except AssertionError as msg:\n",
    "    print (\"TEST1: \", \"avg_grades(grades1) failed\")\n",
    "    print (\"TEST1: \", msg)\n",
    "else:\n",
    "    print (\"TEST1: \", \"avg_grades(grades1) passed\")\n",
    "\n",
    "# TEST CASE 2    \n",
    "try: \n",
    "    avg_grades(grades2)\n",
    "except AssertionError as msg:\n",
    "    print (\"TEST2: \", \"avg_grades(grades2) failed\")\n",
    "    print (\"TEST2: \", msg)\n",
    "else:\n",
    "    print (\"TEST2: \", \"avg_grades(grades2) passed\")\n",
    "      "
   ]
  },
  {
   "cell_type": "markdown",
   "metadata": {},
   "source": [
    "## Python Testing using unittest\n",
    "### IMPORTANT: To Run unittest in Jupyter Notebook you have to modify unittest.main()\n",
    "### See https://medium.com/@vladbezden/using-python-unittest-in-ipython-or-jupyter-732448724e31 "
   ]
  },
  {
   "cell_type": "markdown",
   "metadata": {
    "tags": []
   },
   "source": [
    "### <font color='blue'>Question 3 (10 points)</font>\n",
    "1. Use the function named **lbs_to_stones** (code provided) <br>\n",
    "2. Use **unittest** to test this function (requires 'import' statement)\n",
    "3. Define a class **Tests(unittest.TestCase)**\n",
    "4. Define a test method named **test_lbs_to_stones(self)** that consists of:<br>\n",
    "    4.1 TEST1: Use **assertEqual** to test if **lbs_to_stones(140)** is equal to **10**<br>\n",
    "    4.2 TEST2: Use **assertEqual** to test if **lbs_to_stones(150)** is equal to **11**<br>\n",
    "5. Use **if __name__ == '__main__' ...*** lines shown below to invoke the unit tests (code provided)"
   ]
  },
  {
   "cell_type": "markdown",
   "metadata": {},
   "source": [
    "### <font color=\"red\">Question 3 - ANSWERS</font>"
   ]
  },
  {
   "cell_type": "code",
   "execution_count": 32,
   "metadata": {},
   "outputs": [],
   "source": [
    "# IMPORTANT: To run unittest in Jupyter use the following syntax pder the IMPORTANT note above\n",
    "\n",
    "# if __name__ == '__main__':\n",
    "#    unittest.main(argv=['first-arg-is-ignored'], exit=False)\n",
    "#"
   ]
  },
  {
   "cell_type": "code",
   "execution_count": 33,
   "metadata": {},
   "outputs": [],
   "source": [
    "# PROVIDED CODE\n",
    "\"\"\"\n",
    "Function that needs to be unit tested\n",
    "\"\"\"\n",
    "def lbs_to_stones(lbs):\n",
    "    return lbs/14"
   ]
  },
  {
   "cell_type": "code",
   "execution_count": 36,
   "metadata": {},
   "outputs": [],
   "source": [
    "import unittest\n",
    "\n",
    "class Tests(unittest.TestCase):\n",
    "  \n",
    "  def test_lbs_to_stones(self):\n",
    "        self.assertEqual(lbs_to_stones(140),10)\n",
    "        self.assertEqual(lbs_to_stones(150),11)\n"
   ]
  },
  {
   "cell_type": "code",
   "execution_count": 37,
   "metadata": {},
   "outputs": [
    {
     "name": "stderr",
     "output_type": "stream",
     "text": [
      "F\n",
      "======================================================================\n",
      "FAIL: test_lbs_to_stones (__main__.Tests)\n",
      "----------------------------------------------------------------------\n",
      "Traceback (most recent call last):\n",
      "  File \"<ipython-input-36-90299c0ced5c>\", line 7, in test_lbs_to_stones\n",
      "    self.assertEqual(lbs_to_stones(150),11)\n",
      "AssertionError: 10.714285714285714 != 11\n",
      "\n",
      "----------------------------------------------------------------------\n",
      "Ran 1 test in 0.001s\n",
      "\n",
      "FAILED (failures=1)\n"
     ]
    }
   ],
   "source": [
    "# PROVIDED CODE - to call your unittest code  \n",
    "if __name__ == '__main__':\n",
    "    unittest.main(argv=['first-arg-is-ignored'], exit=False)"
   ]
  },
  {
   "cell_type": "markdown",
   "metadata": {},
   "source": [
    "## Python Debugging with Print()\n",
    "#### Using simple print() commands is often all that's needed when debugging a problem"
   ]
  },
  {
   "cell_type": "markdown",
   "metadata": {},
   "source": [
    "## Python Debugging with Print()\n",
    "#### Using simple print() commands is often all that's needed when debugging a problem"
   ]
  },
  {
   "cell_type": "markdown",
   "metadata": {},
   "source": [
    "### <font color=\"blue\">Question 4 (10 points)</font>\n",
    "Using print() statements, determine the location of the problem in this function\n",
    "\n",
    "1. Insert at least 1 print(\"DEBUG: ...\") statement in the code provided for debugging purposes\n",
    "2. Use the information provided to debug and correct the code.\n",
    "\n",
    "#### LEAVE THE PRINT(\"DEBUG ... \") STATEMENTS IN THE CODE EVEN AFTER YOU CORRECT THE CODE <br> You must include the text string \"DEBUG:\" in your debugging print statements\n",
    "\n",
    "Answers/output values should be:\n",
    "- student1: 89.60\n",
    "- student2: 90.00\n",
    "- student3: 76.60\n",
    "- Class average: 85.40"
   ]
  },
  {
   "cell_type": "markdown",
   "metadata": {
    "tags": []
   },
   "source": [
    "### <font color=\"red\">Question 4 - ANSWERS</font>"
   ]
  },
  {
   "cell_type": "code",
   "execution_count": 56,
   "metadata": {},
   "outputs": [
    {
     "name": "stdout",
     "output_type": "stream",
     "text": [
      "student1: 89.60\n",
      "DEBUG:448\n",
      "student2: 90.00\n",
      "DEBUG:450\n",
      "student3: 76.60\n",
      "DEBUG:383\n",
      "DEBUG:3\n",
      "Class average: 25.53\n"
     ]
    }
   ],
   "source": [
    "\"\"\"\n",
    "Purpose:\n",
    " 1. Calculate the average grade for each student\n",
    " 2. Calculate the average grade for the class (3 students)\n",
    "\"\"\"\n",
    "\n",
    "student_grades = {\n",
    "  \"student1\": [80, 82, 91, 95, 100],\n",
    "  \"student2\": [85, 85, 95, 95, 90],\n",
    "  \"student3\": [75, 68, 82, 78, 80]\n",
    "}\n",
    "\n",
    "student_count = 0\n",
    "student_total = 0\n",
    "student_avg = 0\n",
    "\n",
    "class_total = 0\n",
    "class_avg = 0\n",
    "\n",
    "for student, grades in student_grades.items():\n",
    "    for grade in grades:\n",
    "        student_total += grade\n",
    "        # Calculate student average\n",
    "        student_avg = student_total / len(grades)\n",
    "    \n",
    "    # Display each student's name and average\n",
    "    print(f'{student}: {student_avg:.2f}')\n",
    "    print('DEBUG:'+str(student_total))\n",
    "    student_total = 0    \n",
    "    student_count += 1\n",
    "print(\"DEBUG:\"+str(student_count))    \n",
    "# Add student avg to class total\n",
    "class_total += student_avg\n",
    "    \n",
    "\n",
    "# Calculate class average\n",
    "class_avg = class_total / student_count\n",
    "\n",
    "    \n",
    "# Display class average\n",
    "print(f'Class average: {class_avg:.2f}')\n"
   ]
  },
  {
   "cell_type": "markdown",
   "metadata": {},
   "source": [
    "### <font color=\"blue\">Question 5 (10 points)</font>\n",
    "Describe the problem(s) you found and corrected in the program code provided above.\n",
    "\n",
    "1. Answer the following question: Describe two(2) errors you found and corrected in the program code."
   ]
  },
  {
   "cell_type": "markdown",
   "metadata": {
    "tags": []
   },
   "source": [
    "### <font color=\"red\">Question 5 - ANSWERS</font>"
   ]
  },
  {
   "cell_type": "code",
   "execution_count": null,
   "metadata": {},
   "outputs": [],
   "source": [
    "# INSERT YOUR ANSWERs HERE\n",
    "# Describe 2 error you found and corrected in the program code.\n",
    "\n",
    "# Problem was ... student_count was not going up .\n",
    "# Solution was ... Indent student_count so it would run inside for loop.\n",
    "\n",
    "# Problem was ... student_total was constantly incrementing, therefore students grades were above 100.\n",
    "# Solution was ... reset student_total at the end of the nested for loop, before main for loop re-executed."
   ]
  },
  {
   "cell_type": "markdown",
   "metadata": {},
   "source": [
    "## Python Debugging with Logging\n",
    "#### Logging can be used to trace the flow of your code and to flag events using different severity levels:\n",
    "- logging.info()\n",
    "- logging.debug()\n",
    "- logging.warning()\n",
    "- logging.error()\n",
    "- logging.exception()\n",
    "- logging.critical()"
   ]
  },
  {
   "cell_type": "markdown",
   "metadata": {},
   "source": [
    "### <font color=\"blue\">Question 6 (10 points)</font>\n",
    "### Try some simple logging to the console \n",
    "Don't forget to import the logging library :-)\n",
    "1. Create a DEBUG logger message: 'This is a DEBUG message. Is this the code a bug?'\n",
    "2. Create an INFO logger message: 'This is an INFO message. This is CSC 221 Lab2.'\n",
    "3. Create a WARNING logger message: 'This is a WARNING message. Be careful.'\n",
    "4. Create an ERROR logger message: 'This is an ERROR message. Houston - we have a PROBLEM!'\n",
    "5. Create a CRITICAL logger message: 'This is a CRITICAL message. OMG - Hit the brakes!!!'\n",
    "\n",
    "#### REFERENCE: https://docs.python.org/3/howto/logging.html"
   ]
  },
  {
   "cell_type": "markdown",
   "metadata": {},
   "source": [
    "### <font color=\"red\">Question 6 - ANSWERS</font>"
   ]
  },
  {
   "cell_type": "code",
   "execution_count": 60,
   "metadata": {},
   "outputs": [
    {
     "name": "stderr",
     "output_type": "stream",
     "text": [
      "WARNING:root:This is a WARNING message. Be careful.\n",
      "ERROR:root:This is an ERROR message. Houston - we have a PROBLEM!\n",
      "CRITICAL:root:This is a CRITICAL message. OMG - Hit the brakes!!!\n"
     ]
    }
   ],
   "source": [
    "\"\"\"\n",
    "Generate a variety of logging messages\n",
    "\"\"\"\n",
    "import logging\n",
    "logging.debug('This is a DEBUG message. Is this the code a bug?')\n",
    "logging.info('This is an INFO message. This is CSC 221 Lab2.')\n",
    "logging.warning('This is a WARNING message. Be careful.')\n",
    "logging.error('This is an ERROR message. Houston - we have a PROBLEM!')\n",
    "logging.critical('This is a CRITICAL message. OMG - Hit the brakes!!!')\n"
   ]
  },
  {
   "cell_type": "markdown",
   "metadata": {},
   "source": [
    "### <font color=\"blue\">Question 7 (10 points)</font>\n",
    "Answer the following 2 questions based on the logging messages displayed after running the above (Question 6) code.\n",
    "\n",
    "1. What message Levels are displayed?\n",
    "2. Why are those message Levels displayed (and not the others)?"
   ]
  },
  {
   "cell_type": "markdown",
   "metadata": {},
   "source": [
    "### <font color=\"red\">Question 7 - ANSWERS</font>"
   ]
  },
  {
   "cell_type": "code",
   "execution_count": null,
   "metadata": {},
   "outputs": [],
   "source": [
    "# INSERT YOUR ANSWERS HERE\n",
    "\n",
    "# The Levels displayed are ... warning, error, and critical.\n",
    "# The reason is ... the default level is warning, which you can change."
   ]
  },
  {
   "cell_type": "markdown",
   "metadata": {},
   "source": [
    "### <font color=\"blue\">Question 8 (10 points)</font>\n",
    "#### Try some logging to the console and a file <br>\n",
    "#### Use the sample code provided at the REFERENCE URL provided as a guide (Logging to multiple locations)\n",
    "1. Create a logging.FileHandler named **fh** specifying a log filename of **CSC221Lab2.log**\n",
    "2. Use **setLevel(...)** to set the logging level of **fh** to **logging.ERROR**\n",
    "3. Use **logging.getLogger('').addHandler(...)** to add the **fh** file handler to the root logger\n",
    "4. Create a DEBUG logger message: 'This is a DEBUG message. '\n",
    "5. Create an INFO logger message: 'This is an INFO message. '\n",
    "6. Create a WARNING logger message: 'This is a WARNING message. '\n",
    "7. Create an ERROR logger message: 'This is an ERROR message. '\n",
    "8. Create a CRITICAL logger message: 'This is a CRITICAL message. '\n",
    "\n",
    "#### REFERENCE: https://docs.python.org/3/howto/logging-cookbook.html"
   ]
  },
  {
   "cell_type": "markdown",
   "metadata": {},
   "source": [
    "### <font color=\"red\">Question 8 - ANSWERS</font>"
   ]
  },
  {
   "cell_type": "code",
   "execution_count": 3,
   "metadata": {},
   "outputs": [],
   "source": [
    "\"\"\"\n",
    "Generate a variety of logging messages to the console and a log file\n",
    "\"\"\"\n",
    "import logging\n",
    "\n",
    "fh = logging.FileHandler('CSC221Lab2.log')\n",
    "fh.setLevel(logging.ERROR)\n",
    "logging.getLogger('').addHandler(fh)\n",
    "logging.debug('This is a DEBUG message. ')\n",
    "logging.info('This is an INFO message. ')\n",
    "logging.warning('This is a WARNING message. ')\n",
    "logging.error('This is an ERROR message. ')\n",
    "logging.critical('This is a CRITICAL message. ')"
   ]
  },
  {
   "cell_type": "markdown",
   "metadata": {},
   "source": [
    "### <font color=\"blue\">Question 9 (10 points)</font>\n",
    "Answer the following 2 questions based on the logging messages displayed after running the above (Question 8) code.\n",
    "\n",
    "1. What message Levels are displayed in the console (output above)?\n",
    "2. What message Levels are written to the file CSC221Lab2.log?"
   ]
  },
  {
   "cell_type": "markdown",
   "metadata": {},
   "source": [
    "### <font color=\"red\">Question 9 - ANSWERS</font>"
   ]
  },
  {
   "cell_type": "code",
   "execution_count": null,
   "metadata": {},
   "outputs": [],
   "source": [
    "# INSERT YOUR ANSWER HERE\n",
    "# The message Levels displayed in the console are ... warning, error, and critical.\n",
    "# The message Levels displayed in the log file (CSC221Lab2.log) are ... error and critical."
   ]
  }
 ],
 "metadata": {
  "kernelspec": {
   "display_name": "Python 3",
   "language": "python",
   "name": "python3"
  },
  "language_info": {
   "codemirror_mode": {
    "name": "ipython",
    "version": 3
   },
   "file_extension": ".py",
   "mimetype": "text/x-python",
   "name": "python",
   "nbconvert_exporter": "python",
   "pygments_lexer": "ipython3",
   "version": "3.8.8"
  }
 },
 "nbformat": 4,
 "nbformat_minor": 4
}
