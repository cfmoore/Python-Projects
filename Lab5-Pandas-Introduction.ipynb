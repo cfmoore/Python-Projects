{
 "cells": [
  {
   "cell_type": "markdown",
   "metadata": {},
   "source": [
    "# Lab 5: Pandas Introduction"
   ]
  },
  {
   "cell_type": "markdown",
   "metadata": {},
   "source": [
    "### Author: <font color='red'> Charles Moore </font>"
   ]
  },
  {
   "cell_type": "markdown",
   "metadata": {},
   "source": [
    "## Verify installation of Pandas"
   ]
  },
  {
   "cell_type": "code",
   "execution_count": 1,
   "metadata": {},
   "outputs": [
    {
     "name": "stdout",
     "output_type": "stream",
     "text": [
      "NumPy version: 1.20.1\n",
      "Pandas version: 1.2.4\n"
     ]
    }
   ],
   "source": [
    "# Verify Pandas libraries are installed\n",
    "import numpy as np\n",
    "import pandas as pd\n",
    "from pandas import DataFrame, Series\n",
    "\n",
    "# Display version information\n",
    "print(\"NumPy version:\", np.__version__)\n",
    "print(\"Pandas version:\", pd.__version__)"
   ]
  },
  {
   "cell_type": "code",
   "execution_count": 2,
   "metadata": {},
   "outputs": [],
   "source": [
    "# Import two more Python libraries ...\n",
    "import csv\n",
    "import os"
   ]
  },
  {
   "cell_type": "markdown",
   "metadata": {},
   "source": [
    "### Display Pandas Series Help Documentation"
   ]
  },
  {
   "cell_type": "code",
   "execution_count": 3,
   "metadata": {},
   "outputs": [],
   "source": [
    "# Adding a ? will generate in-line help for a command\n",
    "# Run this cell to see the output generated for Pandas Series\n",
    "#pd.Series?"
   ]
  },
  {
   "cell_type": "markdown",
   "metadata": {},
   "source": [
    "<div class=\"alert alert-block alert-warning\">\n",
    "<b>COMMENT OUT the pd.Series? HELP Command above:</b> <br>\n",
    "Running the Help '?' commands was for informational purposes only.<br>\n",
    "<b>Comment out the line above and rerun the cell to remove the generated output.</b></div>"
   ]
  },
  {
   "cell_type": "markdown",
   "metadata": {},
   "source": [
    "### Display Panda Dataframe Help Documentation"
   ]
  },
  {
   "cell_type": "code",
   "execution_count": 5,
   "metadata": {},
   "outputs": [],
   "source": [
    "# Adding a ? will generate in-line help for a command\n",
    "# Run this cell to see the output generated for Pandas Dataframe\n",
    "#pd.DataFrame?"
   ]
  },
  {
   "cell_type": "markdown",
   "metadata": {},
   "source": [
    "<div class=\"alert alert-block alert-warning\">\n",
    "<b>COMMENT OUT the p.DataFrame? HELP Command above:</b> <br>\n",
    "Running the Help '?' commands was for informational purposes only.<br>\n",
    "<b>Comment out the line above and rerun the cell to remove the generated output.</b></div>"
   ]
  },
  {
   "cell_type": "markdown",
   "metadata": {},
   "source": [
    "## PART A: Pandas Series (30 pts)\n",
    "### Creating Pandas Series"
   ]
  },
  {
   "cell_type": "markdown",
   "metadata": {},
   "source": [
    "The base data structure of Pandas is the __Series object__. It is a one-dimensional array, similar to a NumPy array, but also has special index capabilities. Think of a series as a column in a table, a one-dimensional array that can hold data of any type. Unlike a standard array, a Series object can have labels. If no labels are defined, the default is to use the index numbers.\n",
    "\n",
    "A simple way to create a Series object is by initializing a Series object using a Python array, Python __list__, or a Python __dictionary__ \n",
    "\n",
    "__ADDITIONAL REFERENCES & EXAMPLES__\n",
    "\n",
    "w3schools.com site (Pandas Series creation examples)\n",
    "\n",
    "    REF: https://www.w3schools.com/python/pandas_series.asp\n",
    "    \n",
    "pandas.pydata.org site (information about Pandas Series attributes):\n",
    "\n",
    "    REF: https://pandas.pydata.org/pandas-docs/stable/reference/api/pandas.Series.html\n",
    "    \n",
    "Here are a few commonly used attributes of a Series:\n",
    "\n",
    "__ATTRIBUTES__\n",
    "\n",
    "- nbytes ~ Return the number of bytes in the underlying data.\n",
    "- ndim   ~ Number of dimensions of the underlying data, by definition 1.\n",
    "- shape  ~ Return a tuple of the shape of the underlying data.\n",
    "- size   ~ Return the number of elements in the underlying data.\n",
    "- values ~ Return Series as ndarray or ndarray-like depending on the dtype.\n",
    "\n",
    "Let's try a few ..."
   ]
  },
  {
   "cell_type": "markdown",
   "metadata": {},
   "source": [
    "Create a Series using a Python List:\n",
    "<span style=\"color:blue\">\n",
    "1. Create a Pandas <strong>Series</strong> named <strong>S1</strong> from a <strong>Python list</strong> containing different data types <strong>[9, 5.1, 'WTCC', 'CSC221', 2021]</strong>. <br>\n",
    "2.Set variable <strong>V1</strong> to the values of <strong>S1</strong> <br>\n",
    "3.Set variable <strong>V2</strong> to the number of bytes in <strong>S1</strong> <br>    \n",
    "4.Set variable <strong>V3</strong> to the number of dimensions of <strong>S1</strong> <br>\n",
    "5.Set variable <strong>V4</strong> to the shape of <strong>S1</strong> <br>\n",
    "6.Set variable <strong>V5</strong> to the size of <strong>S1</strong> <br>\n",
    "</span>"
   ]
  },
  {
   "cell_type": "code",
   "execution_count": 34,
   "metadata": {},
   "outputs": [],
   "source": [
    "# INSERT CODE FOR STEPS 1 - 6\n",
    "import pandas as pd\n",
    "\n",
    "S1 = pd.Series([9, 5.1, 'WTCC', 'CSC221', 2021])\n",
    "V1 = S1.values\n",
    "V2 = S1.nbytes\n",
    "V3 = S1.ndim\n",
    "V4 = S1.shape\n",
    "V5 = S1.size\n"
   ]
  },
  {
   "cell_type": "code",
   "execution_count": 35,
   "metadata": {},
   "outputs": [
    {
     "name": "stdout",
     "output_type": "stream",
     "text": [
      "V1: [9 5.1 'WTCC' 'CSC221' 2021]\n",
      "V2: 40\n",
      "V3: 1\n",
      "V4: (5,)\n",
      "V5: 5\n"
     ]
    }
   ],
   "source": [
    "# DO NOT MODIFY !!!\n",
    "\n",
    "# Print the Series values \n",
    "print(\"V1:\", V1)\n",
    "# Print the Series attributes\n",
    "print(\"V2:\", V2)\n",
    "print(\"V3:\", V3)\n",
    "print(\"V4:\", V4)\n",
    "print(\"V5:\", V5)"
   ]
  },
  {
   "cell_type": "markdown",
   "metadata": {},
   "source": [
    "__SERIES CREATION__\n",
    "\n",
    "As mentioned above, although the most common way to create a Series is using a Python __List__, you can also create a Series object using a Python __dictionary__ {key:value,key:value,...}. The __keys__ become the labels.\n",
    "\n",
    "__NOTE the difference between the two -- specifically the first column -- the index__"
   ]
  },
  {
   "cell_type": "markdown",
   "metadata": {},
   "source": [
    "Create a Series using a Python List and a Python Dictionary:\n",
    "\n",
    "<span style=\"color:blue\">\n",
    "7. Create a Pandas <strong>Series</strong> named <strong>S2_LIST</strong> using a <strong>Python list</strong> containing <strong>[31,28,31,30,31]</strong>. <br>\n",
    "8. Create a Pandas <strong>Series</strong> named <strong>S2_DICT</strong> using a <strong>Python dictionary</strong> containing <strong>{'Jan': 31, 'Feb': 28, 'Mar': 31, 'Apr': 30, 'May': 31}</strong>\n",
    "</span>"
   ]
  },
  {
   "cell_type": "code",
   "execution_count": 36,
   "metadata": {},
   "outputs": [],
   "source": [
    "# INSERT CODE FOR STEPS 7 - 8\n",
    "import pandas as pd\n",
    "S2_LIST = pd.Series([31,28,31,30,31])\n",
    "S2_DICT = pd.Series({'Jan': 31, 'Feb': 28, 'Mar': 31, 'Apr': 30, 'May': 31})"
   ]
  },
  {
   "cell_type": "code",
   "execution_count": 37,
   "metadata": {},
   "outputs": [
    {
     "name": "stdout",
     "output_type": "stream",
     "text": [
      "S2_LIST\n",
      "0    31\n",
      "1    28\n",
      "2    31\n",
      "3    30\n",
      "4    31\n",
      "dtype: int64\n",
      "\n",
      "S2_DICT\n",
      "Jan    31\n",
      "Feb    28\n",
      "Mar    31\n",
      "Apr    30\n",
      "May    31\n",
      "dtype: int64\n"
     ]
    }
   ],
   "source": [
    "# DO NOT MODIFY !!!\n",
    "print(\"S2_LIST\\n\", S2_LIST, sep='')\n",
    "print()\n",
    "print(\"S2_DICT\\n\", S2_DICT, sep='') "
   ]
  },
  {
   "cell_type": "markdown",
   "metadata": {},
   "source": [
    "__NOTE:__ Printing a Pandas Series results in __two columns__ of output. \n",
    "\n",
    "The first column is __not__ Series data; it is __index__ labels. The second column contains the __values__ of the Series object. Each row represents the index label and the value for that label.\n",
    "\n",
    "If a Series is created __without__ specifying an explicit index, Pandas automatically creates a __0-based implicit index__, as with lists and NumPy arrays. Elements of a Series object can be accessed through the index using regular indexing brackets: [].\n",
    "\n",
    "If a Series is created with a __user-defined index__ (i.e. labels) using a Python __dictionary__ OR using the __index=__ parameter, elements of a Series object can be accessed using EITHER the _alphanumeric index labels or the 0-based implicit index_.\n",
    "\n",
    "__INDEXES__\n"
   ]
  },
  {
   "cell_type": "markdown",
   "metadata": {},
   "source": [
    "<span style=\"color:blue\">\n",
    "    9. Create a new <strong>Series</strong> named <strong>S3</strong> using an <strong>explicit index</strong>. Use a the list <strong>['stop', 'yield', 'go']</strong> and an index of <strong>['red','yellow','green]</strong>. <br>\n",
    "    10.Set variable <strong>V10</strong> to the values of <strong>S3</strong> <br>\n",
    "    11.Set variable <strong>V11</strong> to the index values of <strong>S3</strong> <br>    \n",
    "    12.Set variable <strong>V12</strong> to the value associated with index <strong>'yellow'</strong> <br>\n",
    "    13.Set variable <strong>V13</strong> to the values associated with index <strong>'red' and 'green'</strong> <br>\n",
    "</span>"
   ]
  },
  {
   "cell_type": "code",
   "execution_count": 38,
   "metadata": {},
   "outputs": [],
   "source": [
    "# INSERT CODE FOR STEPS 9 - 13\n",
    "import pandas as pd\n",
    "S3 = pd.Series(['stop', 'yield', 'go'] , index = ['red','yellow','green'])\n",
    "V10 = S3\n",
    "V11 = S3.index\n",
    "V12 = S3['yellow']\n",
    "V13 = S3[['red','green']]"
   ]
  },
  {
   "cell_type": "code",
   "execution_count": 39,
   "metadata": {},
   "outputs": [
    {
     "name": "stdout",
     "output_type": "stream",
     "text": [
      "V10 Series:\n",
      "red        stop\n",
      "yellow    yield\n",
      "green        go\n",
      "dtype: object\n",
      "\n",
      "V11: Index(['red', 'yellow', 'green'], dtype='object')\n",
      "\n",
      "V12: yield\n",
      "\n",
      "V13:\n",
      "red      stop\n",
      "green      go\n",
      "dtype: object\n"
     ]
    }
   ],
   "source": [
    "# DO NOT MODIFY !!!\n",
    "# Print the Series values \n",
    "print(\"V10 Series:\\n\", V10, sep='')\n",
    "# Print the Series index values\n",
    "print(\"\\nV11:\", V11)\n",
    "# Print specific index values\n",
    "print(\"\\nV12:\", V12)\n",
    "print(\"\\nV13:\\n\", V13, sep='')"
   ]
  },
  {
   "cell_type": "markdown",
   "metadata": {},
   "source": [
    "<span style=\"color:blue\">\n",
    "    14.Update the value associated with index <strong>'green'</strong> to <strong>'hurry up'</strong> <br> \n",
    "    15.Set variable <strong>V14</strong> to updated values of <strong>S3</strong> <br>\n",
    "    16.Set variable <strong>V15</strong> to the value <strong>'yield'</strong> BUT use the 0-based index (NOT the label!)\n",
    "</span>"
   ]
  },
  {
   "cell_type": "code",
   "execution_count": 40,
   "metadata": {},
   "outputs": [],
   "source": [
    "# INSERT CODE FOR STEPS 14 -16\n",
    "S3['green'] = 'hurry up'\n",
    "V14 = S3\n",
    "V15 = S3[1]"
   ]
  },
  {
   "cell_type": "code",
   "execution_count": 41,
   "metadata": {},
   "outputs": [
    {
     "name": "stdout",
     "output_type": "stream",
     "text": [
      "V14 Series\n",
      "red           stop\n",
      "yellow       yield\n",
      "green     hurry up\n",
      "dtype: object\n",
      "\n",
      "V15: yield\n"
     ]
    }
   ],
   "source": [
    "# DO NOT MODIFY !!!\n",
    "# Print updated Series values\n",
    "print(\"V14 Series\\n\", V14, sep='')\n",
    "print()\n",
    "# Print specific 0-based index value\n",
    "print(\"V15:\", V15)"
   ]
  },
  {
   "cell_type": "markdown",
   "metadata": {},
   "source": [
    "__DATETIMEINDEX__ \n",
    "\n",
    "A common usage for a Series is to represent a __time series__ that associates date/time index labels with values. \n",
    "\n",
    "A date range can be created using the Pandas method __pd.date_range()__.\n",
    "\n",
    "    REF: https://pandas.pydata.org/pandas-docs/stable/reference/api/pandas.date_range.html\n",
    "\n",
    "A data range index in Pandas is referred to as a __DatetimeIndex__, which is a Pandas index optimized to index data with dates and times.\n",
    "\n",
    "    REF: https://pandas.pydata.org/docs/reference/api/pandas.DatetimeIndex.html\n",
    "\n",
    "Let's create a one ..."
   ]
  },
  {
   "cell_type": "markdown",
   "metadata": {},
   "source": [
    "<span style=\"color:blue\">\n",
    "17. Use the <strong>pd.date_range(...)</strong> command to create a <strong>DatetimeIndex</strong> named <strong>INDEX_DATES</strong> with indices between <strong>'2016-11-01'</strong> and <strong>'2016-11-08'</strong> <br>\n",
    "18. Create a <strong>Series</strong> named <strong>S4_TEMPS</strong> with temperature values <strong>[60, 62, 65, 70, 63, 67, 65, 66]</strong> and <strong>dates for the index</strong> <br>\n",
    "</span>"
   ]
  },
  {
   "cell_type": "code",
   "execution_count": 42,
   "metadata": {},
   "outputs": [],
   "source": [
    "# INSERT CODE FOR STEPS 17 - 18\n",
    "INDEX_DATES = pd.date_range('2016-11-01','2016-11-08' )\n",
    "S4_TEMPS = pd.Series([60, 62, 65, 70, 63, 67, 65, 66],index=INDEX_DATES)"
   ]
  },
  {
   "cell_type": "code",
   "execution_count": 43,
   "metadata": {},
   "outputs": [
    {
     "name": "stdout",
     "output_type": "stream",
     "text": [
      "INDEX_DATES:\n",
      "DatetimeIndex(['2016-11-01', '2016-11-02', '2016-11-03', '2016-11-04',\n",
      "               '2016-11-05', '2016-11-06', '2016-11-07', '2016-11-08'],\n",
      "              dtype='datetime64[ns]', freq='D')\n",
      "S4_TEMPS:\n",
      "2016-11-01    60\n",
      "2016-11-02    62\n",
      "2016-11-03    65\n",
      "2016-11-04    70\n",
      "2016-11-05    63\n",
      "2016-11-06    67\n",
      "2016-11-07    65\n",
      "2016-11-08    66\n",
      "Freq: D, dtype: int64\n"
     ]
    }
   ],
   "source": [
    "# DO NOT MODIFY !!!\n",
    "print(\"INDEX_DATES:\\n\", INDEX_DATES, sep='')\n",
    "print(\"S4_TEMPS:\\n\", S4_TEMPS, sep='' )"
   ]
  },
  {
   "cell_type": "markdown",
   "metadata": {},
   "source": [
    "__STATISTICAL METHODS__\n",
    "\n",
    "Statistical methods provided by NumPy can be applied to a Pandas Series -- including mean, median, standard deviation, etc.\n",
    "\n",
    "    REF: https://pandas.pydata.org/pandas-docs/stable/reference/series.html#computations-descriptive-stats\n",
    "\n",
    "Here are just a few:\n",
    "\n",
    "- Series.max(...)    ~ Return the maximum of the values over the requested axis.\n",
    "- Series.mean(...)   ~ Return the mean of the values over the requested axis.\n",
    "- Series.median(...) ~ Return the median of the values over the requested axis.\n",
    "- Series.min(...)    ~ Return the minimum of the values over the requested axis.\n",
    "- Series.std(...)    ~ Return sample standard deviation over requested axis.\n",
    "- Series.sum(...)    ~ Return the sum of the values over the requested axis.\n",
    "- Series.var(...)    ~ Return unbiased variance over requested axis.\n",
    "\n",
    "Let's try a few using the Series created above (__S4_TEMPS__)"
   ]
  },
  {
   "cell_type": "markdown",
   "metadata": {},
   "source": [
    "<span style=\"color:blue\">\n",
    "    19.Set variable <strong>V19</strong> to the <strong>mean</strong> value of <strong>S4_TEMPS</strong> <br>\n",
    "    20.Set variable <strong>V20</strong> to the <strong>max</strong> value of <strong>S4_TEMPS</strong> <br> \n",
    "    21.Set variable <strong>V21</strong> to the <strong>min</strong> value of <strong>S4_TEMPS</strong> <br> \n",
    "    22.Set variable <strong>V22</strong> to the <strong>median</strong> value of <strong>S4_TEMPS</strong> <br> \n",
    "    23.Set variable <strong>V23</strong> to the <strong>sum</strong> value of <strong>S4_TEMPS</strong> <br> \n",
    "    24.Set variable <strong>V24</strong> to the <strong>standard deviation</strong> value of <strong>S4_TEMPS</strong>\n",
    "</span>"
   ]
  },
  {
   "cell_type": "code",
   "execution_count": 44,
   "metadata": {},
   "outputs": [],
   "source": [
    "# INSERT CODE FOR STEPS 19 - 24\n",
    "V19 = S4_TEMPS.mean()\n",
    "V20 = S4_TEMPS.max()\n",
    "V21 = S4_TEMPS.min()\n",
    "V22 = S4_TEMPS.median()\n",
    "V23 = S4_TEMPS.sum()\n",
    "V24 = S4_TEMPS.std()"
   ]
  },
  {
   "cell_type": "code",
   "execution_count": 45,
   "metadata": {},
   "outputs": [
    {
     "name": "stdout",
     "output_type": "stream",
     "text": [
      "S4_TEMPS mean: 64.75\n",
      "S4_TEMPS max: 70\n",
      "S4_TEMPS min: 60\n",
      "S4_TEMPS median: 65.0\n",
      "S4_TEMPS sum: 518\n",
      "S4_TEMPS std: 3.1052950170405937\n"
     ]
    }
   ],
   "source": [
    "# DO NOT MODIFY !!!\n",
    "print(\"S4_TEMPS mean:\", V19)\n",
    "print(\"S4_TEMPS max:\", V20)\n",
    "print(\"S4_TEMPS min:\", V21)\n",
    "print(\"S4_TEMPS median:\", V22)\n",
    "print(\"S4_TEMPS sum:\", V23)\n",
    "print(\"S4_TEMPS std:\", V24)"
   ]
  },
  {
   "cell_type": "markdown",
   "metadata": {},
   "source": [
    "__ADDITION / SUBTRACTION__\n",
    "\n",
    "__NOTE:__ You can __add (+)__ and __subtract (-)__ Series values as well, give it a try ..."
   ]
  },
  {
   "cell_type": "markdown",
   "metadata": {},
   "source": [
    "<span style=\"color:blue\">\n",
    "    25. Create a new <strong>Series</strong> named <strong>S5_TEMPS</strong> with temperature values <strong>[70, 75, 69, 73, 79, 77, 74, 72]</strong> and <strong>INDEX_DATES</strong> for the index <br>\n",
    "    26. Create a <strong>Series</strong> named <strong>TEMP_DIFFS1</strong> with temperature <strong>differences</strong> between <strong>S4_TEMPS</strong> and <strong>S5_TEMPS</strong> (subtract S4_TEMPS from S5_TEMPS) <br>\n",
    "    27. Create a <strong>Series</strong> named <strong>TEMP_DIFFS2</strong> with temperature <strong>differences</strong> between <strong>S5_TEMPS</strong> and <strong>S4_TEMPS</strong> (subtract S5_TEMPS from S4_TEMPS) <br>\n",
    "    28. Create a <strong>Series</strong> named <strong>TEMP_SUMS</strong> with temperature <strong>sum</strong> of <strong>S4_TEMPS</strong> and <strong>S5_TEMPS</strong> <br>\n",
    "    29. Create a <strong>Series</strong> named <strong>TEMP_PLUS10</strong> by adding <strong>10</strong> to the temperature of <strong>S4_TEMPS</strong> <br>\n",
    "    30. Create a <strong>Series</strong> named <strong>TEMP_MINUS10</strong> by subtracting <strong>10</strong> from the temperature of <strong>S5_TEMPS</strong>\n",
    "</span>"
   ]
  },
  {
   "cell_type": "code",
   "execution_count": 46,
   "metadata": {},
   "outputs": [],
   "source": [
    "# INSERT CODE FOR STEPS 25 - 30\n",
    "S5_TEMPS = pd.Series([70, 75, 69, 73, 79, 77, 74, 72], index = INDEX_DATES)\n",
    "TEMP_DIFFS1 = S4_TEMPS-S5_TEMPS\n",
    "TEMP_DIFFS2 = S5_TEMPS-S4_TEMPS\n",
    "TEMP_SUMS = S4_TEMPS+S5_TEMPS\n",
    "TEMP_PLUS10 = S4_TEMPS+10\n",
    "TEMP_MINUS10 = S5_TEMPS-10"
   ]
  },
  {
   "cell_type": "code",
   "execution_count": 47,
   "metadata": {},
   "outputs": [
    {
     "name": "stdout",
     "output_type": "stream",
     "text": [
      "S4_TEMPS:\n",
      " [60 62 65 70 63 67 65 66]\n",
      "S5_TEMPS:\n",
      " [70 75 69 73 79 77 74 72]\n",
      "TEMP_DIFFS1:\n",
      " [-10 -13  -4  -3 -16 -10  -9  -6]\n",
      "TEMP_DIFFS2:\n",
      " [10 13  4  3 16 10  9  6]\n",
      "TEMP_SUMS:\n",
      " [130 137 134 143 142 144 139 138]\n",
      "TEMP_PLUS10:\n",
      " [70 72 75 80 73 77 75 76]\n",
      "TEMP_MINUS10:\n",
      " [60 65 59 63 69 67 64 62]\n"
     ]
    }
   ],
   "source": [
    "# DO NOT MODIFY !!!\n",
    "print(\"S4_TEMPS:\\n\",S4_TEMPS.values)\n",
    "print(\"S5_TEMPS:\\n\",S5_TEMPS.values)\n",
    "print(\"TEMP_DIFFS1:\\n\",TEMP_DIFFS1.values)\n",
    "print(\"TEMP_DIFFS2:\\n\",TEMP_DIFFS2.values)\n",
    "print(\"TEMP_SUMS:\\n\",TEMP_SUMS.values)\n",
    "print(\"TEMP_PLUS10:\\n\",TEMP_PLUS10.values)\n",
    "print(\"TEMP_MINUS10:\\n\",TEMP_MINUS10.values)"
   ]
  },
  {
   "cell_type": "markdown",
   "metadata": {},
   "source": [
    "## PART B: DataFrame Object: (40 pts - 2pts/each)"
   ]
  },
  {
   "cell_type": "markdown",
   "metadata": {},
   "source": [
    "If you want to have more than one **Series** of data that is _aligned by a common index_, then a Pandas **DataFrame** is used. A **DataFrame** is like a database table, where **each column** has the same type of data, but the columns can have different types of data. Columns in a **DataFrame** object can be accessed using an array indexer [] with the name of the column or a list of column names.\n",
    "\n",
    "\n",
    "There is an indexing difference between **DataFrame** objects and **Series** objects. If you pass a **list** to the **indexing [] operator** of a **DataFrame**, it retrieves the specified **columns**, whereas a **Series** uses the list as index labels to retrieve rows. \n",
    "\n",
    "So, with a **DataFrame** object, if the name of a column *does not have spaces*, you can **use the column name** to access the column of data in a **DataFrame** (i.e. 'dot' syntax), for example: __TEMPDF.Atlanta__ instead of __TEMPDF['Atlanta']__\n",
    "\n",
    "__DATAFRAME CREATION__"
   ]
  },
  {
   "cell_type": "markdown",
   "metadata": {},
   "source": [
    "<span style=\"color:blue\">\n",
    "    1. Create a <strong>DataFrame</strong> object named <strong>DF1</strong> with <strong>two columns</strong> representing the temperatures from the two Series objects created earlier, <strong>S4_TEMPS</strong> and <strong>S5_TEMPS</strong>. Give them <strong>city column names</strong> of <strong>'Raleigh'</strong> and <strong>'Charlotte'</strong>. (in the order given: S4_TEMPS for Raleigh; S5_TEMPS for Charlotte)<br>\n",
    "    2.Set variable <strong>V25</strong> to the column of <strong>DF1</strong> with the name <strong>'Raleigh'</strong> <br>\n",
    "    3.Set variable <strong>V26</strong> to the column of <strong>DF1</strong> with the name <strong>'Charlotte'</strong> -<strong>use the column name</strong> 'dot' syntax <br>\n",
    "    4.Create <strong>DF1_REV</strong> containing both columns in <strong>DF1</strong> in the <strong>reverse order</strong> [Charlotte column 1st and Raleigh column 2nd] <br>\n",
    "</span>"
   ]
  },
  {
   "cell_type": "code",
   "execution_count": 48,
   "metadata": {},
   "outputs": [],
   "source": [
    "# INSERT CODE FOR STEPS 1 - 4\n",
    "DF1 = pd.DataFrame(columns = ['Raleigh','Charlotte'])\n",
    "DF1['Raleigh'] = S4_TEMPS\n",
    "DF1['Charlotte'] = S5_TEMPS\n",
    "V25 = DF1['Raleigh']\n",
    "V26 = DF1.Charlotte\n",
    "DF1_REV = pd.DataFrame(columns = ['Charlotte','Raleigh'])\n",
    "DF1_REV['Charlotte'] = S5_TEMPS\n",
    "DF1_REV['Raleigh'] = S4_TEMPS"
   ]
  },
  {
   "cell_type": "code",
   "execution_count": 49,
   "metadata": {},
   "outputs": [
    {
     "name": "stdout",
     "output_type": "stream",
     "text": [
      "\n",
      "DATAFRAME DF1\n",
      "             Raleigh  Charlotte\n",
      "2016-11-01       60         70\n",
      "2016-11-02       62         75\n",
      "2016-11-03       65         69\n",
      "2016-11-04       70         73\n",
      "2016-11-05       63         79\n",
      "2016-11-06       67         77\n",
      "2016-11-07       65         74\n",
      "2016-11-08       66         72\n",
      "\n",
      "V25\n",
      "2016-11-01    60\n",
      "2016-11-02    62\n",
      "2016-11-03    65\n",
      "2016-11-04    70\n",
      "2016-11-05    63\n",
      "2016-11-06    67\n",
      "2016-11-07    65\n",
      "2016-11-08    66\n",
      "Freq: D, Name: Raleigh, dtype: int64\n",
      "\n",
      "V26\n",
      "2016-11-01    70\n",
      "2016-11-02    75\n",
      "2016-11-03    69\n",
      "2016-11-04    73\n",
      "2016-11-05    79\n",
      "2016-11-06    77\n",
      "2016-11-07    74\n",
      "2016-11-08    72\n",
      "Freq: D, Name: Charlotte, dtype: int64\n",
      "\n",
      "DATAFRAME DF1_REV\n",
      "             Charlotte  Raleigh\n",
      "2016-11-01         70       60\n",
      "2016-11-02         75       62\n",
      "2016-11-03         69       65\n",
      "2016-11-04         73       70\n",
      "2016-11-05         79       63\n",
      "2016-11-06         77       67\n",
      "2016-11-07         74       65\n",
      "2016-11-08         72       66\n"
     ]
    }
   ],
   "source": [
    "# DO NOT MODIFY !!!\n",
    "print(\"\\nDATAFRAME DF1\\n\", DF1)\n",
    "print(\"\\nV25\\n\", V25, sep='')\n",
    "print(\"\\nV26\\n\", V26, sep='')\n",
    "print(\"\\nDATAFRAME DF1_REV\\n\", DF1_REV)"
   ]
  },
  {
   "cell_type": "markdown",
   "metadata": {},
   "source": [
    "__ARITHMETIC OPERATIONS__\n",
    "\n",
    "Arithmetic operations between columns within a __DataFrame__ are identical to operations on multiple __Series__.\n",
    "Each column in a __DataFrame__ is a __Series__ so the use of mathematical operators is applicable. Ex: [+ - * /  // % **]\n",
    "\n",
    "__NOTE:__ You can also add new columns to a __DataFrame__ using the syntax:\n",
    "\n",
    "    <DataFrame>['columnheading'] = <DataFrame-to-Add>\n",
    " \n",
    "Let's do a little DataFrame arithmetic ... "
   ]
  },
  {
   "cell_type": "markdown",
   "metadata": {},
   "source": [
    "<span style=\"color:blue\">\n",
    "5. Calculate the <strong>temperature difference</strong> between the two cities [subtract Charlotte from Raleigh] and save the results in <strong>DF1_DIFF</strong><br>\n",
    "6. Calculate the <strong>Raleigh</strong> temperatures in <strong>Celcius ((F -32) * 5) / 9)</strong> and save the results in <strong>DF1_RAL_TEMPC</strong> <br>\n",
    "7. Calculate the <strong>Charlotte</strong> temperatures in <strong>Celcius ((F -32) * 5) / 9)</strong> and save the results in <strong>DF1_CLT_TEMPC</strong> <br>    \n",
    "8. Add a new column with the <strong>DF1_DIFF</strong> values to the <strong>DF1</strong> DataFrame with the column heading <strong>'Diff'</strong>. <br>\n",
    "9. Add a new column with the <strong>DF1_RAL_TEMPC</strong> values to the <strong>DF1</strong> DataFrame with the column heading <strong>'Ral-C'</strong>. <br>\n",
    "10. Add a column with the <strong>DF1_CLT_TEMPC</strong> values to the <strong>DF1</strong> DataFrame with the column heading <strong>'Clt-C'</strong>. <br> \n",
    "</span>"
   ]
  },
  {
   "cell_type": "code",
   "execution_count": 67,
   "metadata": {},
   "outputs": [],
   "source": [
    "# INSERT CODE FOR STEPS 5 - 10\n",
    "DF1_DIFF = DF1.Raleigh-DF1.Charlotte\n",
    "DF1_RAL_TEMPC = (((DF1.Raleigh-32)*5)/9)\n",
    "DF1_CLT_TEMPC = (((DF1.Charlotte-32)*5)/9)\n",
    "DF1['Diff'] = DF1_DIFF\n",
    "DF1['Ral-C'] = DF1_RAL_TEMPC\n",
    "DF1['Clt-C'] = DF1_CLT_TEMPC"
   ]
  },
  {
   "cell_type": "code",
   "execution_count": 68,
   "metadata": {},
   "outputs": [
    {
     "name": "stdout",
     "output_type": "stream",
     "text": [
      "DF1_DIFF DataFrame\n",
      "2016-11-01   -10\n",
      "2016-11-02   -13\n",
      "2016-11-03    -4\n",
      "2016-11-04    -3\n",
      "2016-11-05   -16\n",
      "2016-11-06   -10\n",
      "2016-11-07    -9\n",
      "2016-11-08    -6\n",
      "Freq: D, dtype: int64\n",
      "\n",
      "DF1_RAL_TEMPC DataFrame\n",
      "2016-11-01    15.555556\n",
      "2016-11-02    16.666667\n",
      "2016-11-03    18.333333\n",
      "2016-11-04    21.111111\n",
      "2016-11-05    17.222222\n",
      "2016-11-06    19.444444\n",
      "2016-11-07    18.333333\n",
      "2016-11-08    18.888889\n",
      "Freq: D, Name: Raleigh, dtype: float64\n",
      "\n",
      "DF1_CLT_TEMPC DataFrame\n",
      "2016-11-01    21.111111\n",
      "2016-11-02    23.888889\n",
      "2016-11-03    20.555556\n",
      "2016-11-04    22.777778\n",
      "2016-11-05    26.111111\n",
      "2016-11-06    25.000000\n",
      "2016-11-07    23.333333\n",
      "2016-11-08    22.222222\n",
      "Freq: D, Name: Charlotte, dtype: float64\n",
      "\n",
      "DF1 DataFrame\n",
      "             Raleigh  Charlotte  Diff      Ral-C      Clt-C\n",
      "2016-11-01       60         70   -10  15.555556  21.111111\n",
      "2016-11-02       62         75   -13  16.666667  23.888889\n",
      "2016-11-03       65         69    -4  18.333333  20.555556\n",
      "2016-11-04       70         73    -3  21.111111  22.777778\n",
      "2016-11-05       63         79   -16  17.222222  26.111111\n",
      "2016-11-06       67         77   -10  19.444444  25.000000\n",
      "2016-11-07       65         74    -9  18.333333  23.333333\n",
      "2016-11-08       66         72    -6  18.888889  22.222222\n"
     ]
    }
   ],
   "source": [
    "# DO NOT MODIFY !!!\n",
    "\n",
    "# Print the temperature difference between the two cities\n",
    "print(\"DF1_DIFF DataFrame\\n\", DF1_DIFF, sep='')\n",
    "\n",
    "# Print the Raleigh temperatures in Celcius \n",
    "print(\"\\nDF1_RAL_TEMPC DataFrame\\n\", DF1_RAL_TEMPC, sep='')\n",
    "\n",
    "# Print the Charlotte temperatures in Celcium\n",
    "print(\"\\nDF1_CLT_TEMPC DataFrame\\n\", DF1_CLT_TEMPC, sep='')\n",
    "\n",
    "# Print DF1 with 3 new columns\n",
    "print(\"\\nDF1 DataFrame\\n\", DF1)"
   ]
  },
  {
   "cell_type": "markdown",
   "metadata": {},
   "source": [
    "The names of columns in a __DataFrame__ object are accessible via the __DataFrame__ object's __columns property__, which itself is a __Pandas Index__ object. \n",
    "\n",
    "In addition, the __DataFrame__ object can be accessed as a __NumPy array__ by using its __values attribute__. \n",
    "\n",
    "    REF: https://pandas.pydata.org/pandas-docs/stable/reference/frame.html\n",
    "\n",
    "__SOME DATAFRAME ATTRIBUTES__\n",
    "\n",
    "- DataFrame.index     ~ The index (row labels) of the DataFrame.\n",
    "- DataFrame.columns   ~ The column labels of the DataFrame.\n",
    "- DataFrame.dtypes    ~  Return the dtypes in the DataFrame.\n",
    "- DataFrame.info(...) ~ Print a concise summary of a DataFrame.\n",
    "- DataFrame.values    ~ Return a Numpy representation of the DataFrame.\n",
    "- DataFrame.axes      ~ Return a list representing the axes of the DataFrame.\n",
    "- DataFrame.ndim      ~ Return an int representing the number of axes / array dimensions.\n",
    "- DataFrame.size      ~ Return an int representing the number of elements in this object.\n",
    "- DataFrame.shape     ~ Return a tuple representing the dimensionality of the DataFrame.\n",
    "\n",
    "Let's check out a few of these ..."
   ]
  },
  {
   "cell_type": "markdown",
   "metadata": {},
   "source": [
    "<span style=\"color:blue\">\n",
    "    11.Set variable <strong>V27</strong> to the columns labels of <strong>DF1</strong><br>\n",
    "    12.Set variable <strong>V28</strong> to the NumPy representation of <strong>DF1</strong> <br>\n",
    "    13.Set variable <strong>V29</strong> to the shape of <strong>DF1</strong> <br>\n",
    "    14.Set variable <strong>V30</strong> to the size of <strong>DF1</strong>\n",
    "</span>"
   ]
  },
  {
   "cell_type": "code",
   "execution_count": 69,
   "metadata": {},
   "outputs": [],
   "source": [
    "# INSERT CODE FOR STEPS 11 - 14\n",
    "V27 = DF1.columns\n",
    "V28 = DF1.values\n",
    "V29 = DF1.shape\n",
    "V30 = DF1.size\n"
   ]
  },
  {
   "cell_type": "code",
   "execution_count": 70,
   "metadata": {},
   "outputs": [
    {
     "name": "stdout",
     "output_type": "stream",
     "text": [
      "DF1 columns:\n",
      " Index(['Raleigh', 'Charlotte', 'Diff', 'Ral-C', 'Clt-C'], dtype='object')\n",
      "\n",
      "DF1 values:\n",
      "[[ 60.          70.         -10.          15.55555556  21.11111111]\n",
      " [ 62.          75.         -13.          16.66666667  23.88888889]\n",
      " [ 65.          69.          -4.          18.33333333  20.55555556]\n",
      " [ 70.          73.          -3.          21.11111111  22.77777778]\n",
      " [ 63.          79.         -16.          17.22222222  26.11111111]\n",
      " [ 67.          77.         -10.          19.44444444  25.        ]\n",
      " [ 65.          74.          -9.          18.33333333  23.33333333]\n",
      " [ 66.          72.          -6.          18.88888889  22.22222222]]\n",
      "\n",
      "DF1 shape: (8, 5)\n",
      "\n",
      "DF1 size: 40\n"
     ]
    }
   ],
   "source": [
    "# Print the column labels of DF1\n",
    "print(\"DF1 columns:\\n\",V27)\n",
    "print(\"\\nDF1 values:\\n\", V28, sep='')\n",
    "print(\"\\nDF1 shape:\", V29)\n",
    "print(\"\\nDF1 size:\", V30)"
   ]
  },
  {
   "cell_type": "markdown",
   "metadata": {},
   "source": [
    "__DATAFRAME INDEXING__\n",
    "\n",
    "The __DataFrame__ objects can be __sliced__ to retrieve specific rows using __implicit indexing__. <br>\n",
    "Entire rows from a __DataFrame__ can be retrieved using:\n",
    "\n",
    "        - <DataFrame>.loc    ~ explicit indexing\n",
    "            - Access a group of rows and columns by label(s) or a boolean array.\n",
    "        - <DataFrame>.iloc   ~ implicit indexing\n",
    "            -Purely integer-location based indexing for selection by position.\n",
    "        \n",
    "Specific rows in a __DataFrame__ object can also be selected using:\n",
    "        - A __list__ of integer positions (Ex. [1,5,7]) \n",
    "        - A __logical expression__ applied to the data in each row (Ex. < > <= >= == ) \n",
    "\n",
    "    REF: https://pandas.pydata.org/pandas-docs/stable/reference/frame.html#indexing-iteration\n",
    "\n",
    "\n",
    "Let's use these index methods to retrieve various rows ..."
   ]
  },
  {
   "cell_type": "markdown",
   "metadata": {},
   "source": [
    "<span style=\"color:blue\">\n",
    "    15.Set variable <strong>V31</strong> to <strong>DF1</strong> column <strong>'Diff'</strong> rows with <strong>implicit index locations 2 through 4</strong><br>\n",
    "    16.Set variable <strong>V32</strong> to <strong>DF1</strong> rows with dates <strong>‘2016-11-03’, ‘2016-11-04’ and ‘2016-11-05’</strong> using slicing on the <strong>explicit row index</strong><br>\n",
    "    17.Set variable <strong>V33</strong> to <strong>DF1</strong> row with <strong>implicit index position 1</strong> (second row)<br>\n",
    "    18.Set variable <strong>V34</strong> to <strong>DF1</strong> row with date <strong>'2016-11-04'</strong> using <strong>.loc</strong><br>\n",
    "    19.Set variable <strong>V35</strong> to <strong>DF1</strong> column <strong>'Charlotte'</strong> rows with <strong>implicit indices 2, 5, and 7</strong> (0-based location). <br>\n",
    "    20.Set variable <strong>V36</strong> to <strong>DF1</strong> days where the temperature in <strong>'Raleigh'</strong> is <strong>above 65. <br>\n",
    "</span>"
   ]
  },
  {
   "cell_type": "code",
   "execution_count": 83,
   "metadata": {},
   "outputs": [],
   "source": [
    "#### INSERT CODE FOR STEPS 15 - 20\n",
    "V31 = DF1['Diff'].iloc[2:5]\n",
    "V32 = DF1.loc['2016-11-03':'2016-11-05']\n",
    "V33 = DF1.iloc[1]\n",
    "V34 = DF1.loc['2016-11-04']\n",
    "V35 = DF1['Charlotte'].iloc[[2,5,7]]\n",
    "V36 = DF1.loc[DF1['Raleigh'] > 65]"
   ]
  },
  {
   "cell_type": "code",
   "execution_count": 84,
   "metadata": {},
   "outputs": [
    {
     "name": "stdout",
     "output_type": "stream",
     "text": [
      "DF1 Diff Column Rows 2-4:\n",
      "2016-11-03    -4\n",
      "2016-11-04    -3\n",
      "2016-11-05   -16\n",
      "Freq: D, Name: Diff, dtype: int64\n",
      "\n",
      "DF1 Rows for Nov 3-5:\n",
      "            Raleigh  Charlotte  Diff      Ral-C      Clt-C\n",
      "2016-11-03       65         69    -4  18.333333  20.555556\n",
      "2016-11-04       70         73    -3  21.111111  22.777778\n",
      "2016-11-05       63         79   -16  17.222222  26.111111\n",
      "\n",
      "DF1 Second Row:\n",
      "Raleigh      62.000000\n",
      "Charlotte    75.000000\n",
      "Diff        -13.000000\n",
      "Ral-C        16.666667\n",
      "Clt-C        23.888889\n",
      "Name: 2016-11-02 00:00:00, dtype: float64\n",
      "\n",
      "DF1 Row for Nov 4:\n",
      "Raleigh      70.000000\n",
      "Charlotte    73.000000\n",
      "Diff         -3.000000\n",
      "Ral-C        21.111111\n",
      "Clt-C        22.777778\n",
      "Name: 2016-11-04 00:00:00, dtype: float64\n",
      "\n",
      "DF1 Charlotte Rows 2,5,7:\n",
      "2016-11-03    69\n",
      "2016-11-06    77\n",
      "2016-11-08    72\n",
      "Name: Charlotte, dtype: int64\n",
      "\n",
      "DF1 Raleigh temp>65:\n",
      "            Raleigh  Charlotte  Diff      Ral-C      Clt-C\n",
      "2016-11-04       70         73    -3  21.111111  22.777778\n",
      "2016-11-06       67         77   -10  19.444444  25.000000\n",
      "2016-11-08       66         72    -6  18.888889  22.222222\n"
     ]
    }
   ],
   "source": [
    "# DO NOT MODIFY !!!\n",
    "print(\"DF1 Diff Column Rows 2-4:\\n\", V31, sep='')\n",
    "print(\"\\nDF1 Rows for Nov 3-5:\\n\", V32, sep='')\n",
    "print(\"\\nDF1 Second Row:\\n\", V33, sep='')\n",
    "print(\"\\nDF1 Row for Nov 4:\\n\", V34, sep='')\n",
    "print(\"\\nDF1 Charlotte Rows 2,5,7:\\n\", V35, sep='')\n",
    "print(\"\\nDF1 Raleigh temp>65:\\n\", V36, sep='')"
   ]
  },
  {
   "cell_type": "markdown",
   "metadata": {},
   "source": [
    "## PART C: Pandas with Stock CSV Dataset: (30 pts - 2 pts/each)"
   ]
  },
  {
   "cell_type": "markdown",
   "metadata": {},
   "source": [
    "<div class=\"alert alert-block alert-info\">\n",
    "    <b>INFORMATION:</b> In PART C, you will be using <b>Pandas</b> to compute various statistics.<br> \n",
    "    A dataset (CSV-files) is provided with the lab assignment. This dataset will be read into a <b>DataFrame<b>.<br><br>\n",
    "    - 4stocks_1qtr.csv ~ stock info for 1st quarter of 2017\n",
    "\n",
    "</div>"
   ]
  },
  {
   "cell_type": "markdown",
   "metadata": {},
   "source": [
    "<span style=\"color:blue\">\n",
    "Verify your <strong>current working directory</strong> using <strong>getcwd()</strong>. Your stock CSV files <strong>MUST</strong> be located in the directory displayed as CWD.<br>\n",
    "</span>"
   ]
  },
  {
   "cell_type": "code",
   "execution_count": 85,
   "metadata": {},
   "outputs": [
    {
     "name": "stdout",
     "output_type": "stream",
     "text": [
      "/home/chad/_CSC221/Lab 4\n"
     ]
    }
   ],
   "source": [
    "# Display your current working directory\n",
    "# IMPORTANT: Your CSV files must be located in this directory\n",
    "# If the stock CSV files for this lab are not in this directory you MUST move\n",
    "# the files to this location before you can continue!\n",
    "import os\n",
    "print(os.getcwd())"
   ]
  },
  {
   "cell_type": "markdown",
   "metadata": {},
   "source": [
    "### Reading CSV files\n",
    "\n",
    "A common data format for storing and sharing data is a __CSV__ file (i.e command separated value). __Pandas__ has a __read_csv()__ function making it quite simple to import such files.\n",
    "\n",
    "__ADDITIONAL REFERENCES & EXAMPLES__\n",
    "    \n",
    "pandas.pydata.org site (information about Pandas read_csv() function):\n",
    "\n",
    "    REF: https://pandas.pydata.org/pandas-docs/stable/reference/api/pandas.read_csv.html\n",
    "    \n",
    "w3schools.com site (Pandas Read CSV examples)    \n",
    "\n",
    "    REF: https://www.w3schools.com/python/pandas_csv.asp\n",
    "\n",
    "__Take a look first !__\n",
    "\n",
    "Before analyzing the data read into a DataFrame, you'll often want to take a quick look at the data. \n",
    "\n",
    "- To print all the data in a DataFrame, you can use __to_string()__. EXAMPLE: __print(df.to_string())__\n",
    "\n",
    "        REF: https://pandas.pydata.org/pandas-docs/stable/reference/api/pandas.DataFrame.to_string.html\n",
    "    \n",
    "\n",
    "- To print just a subset of the DataFrame, you can use __head()__ and/or __tail()__. If no value is specified, a __default = 5__ is used.\n",
    "\n",
    "pandas.pydata.org site (information about head() and tail() functions):\n",
    "\n",
    "    REF: https://pandas.pydata.org/pandas-docs/stable/reference/api/pandas.DataFrame.head.html\n",
    "    \n",
    "    REF: https://pandas.pydata.org/pandas-docs/stable/reference/api/pandas.DataFrame.tail.html\n",
    "    \n",
    "EXAMPLES:<br>\n",
    "__head()__ ~ display first 5 rows <br>\n",
    "__head(10)__ ~ display first 10 rows <br>\n",
    "__tail()__ ~ display last 5 rows <br>\n",
    "__head(10)__ ~ display last 10 rows <br>\n"
   ]
  },
  {
   "cell_type": "markdown",
   "metadata": {},
   "source": [
    "<span style=\"color:blue\">\n",
    "    1. Create variable <strong>cols</strong> as a <strong>list</strong> of column headings for the stocks dataset (1st Qtr 2017). <br>&nbsp; &nbsp; &nbsp; &nbsp; Set the headings to <strong>['Date','Open','High','Low','Close','Volume','Name']</strong> <br> \n",
    "    2. Use <strong>pd.read_csv</strong> to read the stocks data file for 1st quarter 2017 <strong>(4stocks_1qtr.csv)</strong> into <strong>STOCKS_DF1</strong> using the column headings defined by <strong>cols</strong><br>&nbsp; &nbsp; &nbsp; &nbsp; To set the collumn headings, you will need to use the <strong>names = </strong> parameter <br> \n",
    "    3. Set variable <strong>STOCKS_DF1_FIRST6</strong> to the first <strong>6</strong> records of the DataFrame <strong>STOCKS_DF1</strong> using the <strong>head()</strong> function.\n",
    "</span>"
   ]
  },
  {
   "cell_type": "code",
   "execution_count": 162,
   "metadata": {},
   "outputs": [],
   "source": [
    "# INSERT CODE FOR STEPS 1 - 3\n",
    "cols = ['Date','Open','High','Low','Close','Volume','Name'] \n",
    "STOCKS_DF1 = pd.read_csv('4stocks_1qtr.csv',names = cols)\n",
    "\n",
    "STOCKS_DF1_FIRST6 = STOCKS_DF1.head(6)"
   ]
  },
  {
   "cell_type": "code",
   "execution_count": 104,
   "metadata": {},
   "outputs": [
    {
     "data": {
      "text/html": [
       "<div>\n",
       "<style scoped>\n",
       "    .dataframe tbody tr th:only-of-type {\n",
       "        vertical-align: middle;\n",
       "    }\n",
       "\n",
       "    .dataframe tbody tr th {\n",
       "        vertical-align: top;\n",
       "    }\n",
       "\n",
       "    .dataframe thead th {\n",
       "        text-align: right;\n",
       "    }\n",
       "</style>\n",
       "<table border=\"1\" class=\"dataframe\">\n",
       "  <thead>\n",
       "    <tr style=\"text-align: right;\">\n",
       "      <th></th>\n",
       "      <th>Date</th>\n",
       "      <th>Open</th>\n",
       "      <th>High</th>\n",
       "      <th>Low</th>\n",
       "      <th>Close</th>\n",
       "      <th>Volume</th>\n",
       "      <th>Name</th>\n",
       "    </tr>\n",
       "  </thead>\n",
       "  <tbody>\n",
       "    <tr>\n",
       "      <th>0</th>\n",
       "      <td>1/3/2017</td>\n",
       "      <td>115.80</td>\n",
       "      <td>116.33</td>\n",
       "      <td>114.76</td>\n",
       "      <td>116.15</td>\n",
       "      <td>28781865</td>\n",
       "      <td>AAPL</td>\n",
       "    </tr>\n",
       "    <tr>\n",
       "      <th>1</th>\n",
       "      <td>1/4/2017</td>\n",
       "      <td>115.85</td>\n",
       "      <td>116.51</td>\n",
       "      <td>115.75</td>\n",
       "      <td>116.02</td>\n",
       "      <td>21118116</td>\n",
       "      <td>AAPL</td>\n",
       "    </tr>\n",
       "    <tr>\n",
       "      <th>2</th>\n",
       "      <td>1/5/2017</td>\n",
       "      <td>115.92</td>\n",
       "      <td>116.86</td>\n",
       "      <td>115.81</td>\n",
       "      <td>116.61</td>\n",
       "      <td>22193587</td>\n",
       "      <td>AAPL</td>\n",
       "    </tr>\n",
       "    <tr>\n",
       "      <th>3</th>\n",
       "      <td>1/6/2017</td>\n",
       "      <td>116.78</td>\n",
       "      <td>118.16</td>\n",
       "      <td>116.47</td>\n",
       "      <td>117.91</td>\n",
       "      <td>31751900</td>\n",
       "      <td>AAPL</td>\n",
       "    </tr>\n",
       "    <tr>\n",
       "      <th>4</th>\n",
       "      <td>1/9/2017</td>\n",
       "      <td>117.95</td>\n",
       "      <td>119.43</td>\n",
       "      <td>117.94</td>\n",
       "      <td>118.99</td>\n",
       "      <td>33561948</td>\n",
       "      <td>AAPL</td>\n",
       "    </tr>\n",
       "    <tr>\n",
       "      <th>5</th>\n",
       "      <td>1/10/2017</td>\n",
       "      <td>118.77</td>\n",
       "      <td>119.38</td>\n",
       "      <td>118.30</td>\n",
       "      <td>119.11</td>\n",
       "      <td>24462051</td>\n",
       "      <td>AAPL</td>\n",
       "    </tr>\n",
       "  </tbody>\n",
       "</table>\n",
       "</div>"
      ],
      "text/plain": [
       "        Date    Open    High     Low   Close    Volume  Name\n",
       "0   1/3/2017  115.80  116.33  114.76  116.15  28781865  AAPL\n",
       "1   1/4/2017  115.85  116.51  115.75  116.02  21118116  AAPL\n",
       "2   1/5/2017  115.92  116.86  115.81  116.61  22193587  AAPL\n",
       "3   1/6/2017  116.78  118.16  116.47  117.91  31751900  AAPL\n",
       "4   1/9/2017  117.95  119.43  117.94  118.99  33561948  AAPL\n",
       "5  1/10/2017  118.77  119.38  118.30  119.11  24462051  AAPL"
      ]
     },
     "execution_count": 104,
     "metadata": {},
     "output_type": "execute_result"
    }
   ],
   "source": [
    "# DO NOT MODIFY !!!\n",
    "STOCKS_DF1_FIRST6"
   ]
  },
  {
   "cell_type": "markdown",
   "metadata": {},
   "source": [
    "<span style=\"color:blue\">\n",
    "    4. Set variable <strong>STOCKS_DF1_TYPE</strong> to the <strong>data types</strong> Pandas assigned to <strong>STOCKS_DF1</strong> (Use dtype)\n",
    "</span>"
   ]
  },
  {
   "cell_type": "code",
   "execution_count": 105,
   "metadata": {},
   "outputs": [],
   "source": [
    "# INSERT CODE FOR STEP 4\n",
    "STOCKS_DF1_TYPE = STOCKS_DF1.dtypes"
   ]
  },
  {
   "cell_type": "code",
   "execution_count": 106,
   "metadata": {},
   "outputs": [
    {
     "data": {
      "text/plain": [
       "Date       object\n",
       "Open      float64\n",
       "High      float64\n",
       "Low       float64\n",
       "Close     float64\n",
       "Volume      int64\n",
       "Name       object\n",
       "dtype: object"
      ]
     },
     "execution_count": 106,
     "metadata": {},
     "output_type": "execute_result"
    }
   ],
   "source": [
    "# DO NOT MODIFY !!!\n",
    "STOCKS_DF1_TYPE"
   ]
  },
  {
   "cell_type": "markdown",
   "metadata": {},
   "source": [
    "<span style=\"color:blue\">\n",
    "    5. Set variable <strong>STOCKS_DF1_SHAPE</strong> to the number of rows and columns <strong>STOCKS_DF1</strong> (Use shape)\n",
    "</span>"
   ]
  },
  {
   "cell_type": "code",
   "execution_count": 107,
   "metadata": {},
   "outputs": [],
   "source": [
    "# INSERT CODE FOR STEP 5\n",
    "STOCKS_DF1_SHAPE = STOCKS_DF1.shape"
   ]
  },
  {
   "cell_type": "code",
   "execution_count": 108,
   "metadata": {},
   "outputs": [
    {
     "data": {
      "text/plain": [
       "(248, 7)"
      ]
     },
     "execution_count": 108,
     "metadata": {},
     "output_type": "execute_result"
    }
   ],
   "source": [
    "# DO NOT MODIFY !!!\n",
    "STOCKS_DF1_SHAPE"
   ]
  },
  {
   "cell_type": "markdown",
   "metadata": {},
   "source": [
    "<span style=\"color:blue\">\n",
    "    6. Create a new column for <strong>STOCKS_DF1 DataFrame</strong> called <strong>'Year'</strong> that contains the year extracted from the <strong>Date</strong> column using a <strong>simple vectorized string opteration</strong> <br>\n",
    "<ul>\n",
    "    <li>Reference PART B in this Lab for how to add a new column to a DataFrame. </li>\n",
    "    <li>The new column will be named <strong>'Month'</strong> </li>\n",
    "    <li>Use 'Date' as the column and .str[] with slicing to extract the year value from Date (m/dd/yyyy): <em>\n",
    "    STOCKS_SF1['Date'].str[-4::]</em></li>\n",
    "</ul>\n",
    "    7. Set variable <strong>STOCKS_DF1_FIRST7</strong> to the first <strong>7</strong> records of the DataFrame <strong>STOCKS_DF1</strong> using the <strong>head()</strong> function.\n",
    "</span>"
   ]
  },
  {
   "cell_type": "code",
   "execution_count": 119,
   "metadata": {},
   "outputs": [],
   "source": [
    "# INSERT CODE FOR STEPS 6 - 7\n",
    "STOCKS_DF1['Year'] = STOCKS_DF1.Date.str[-4::]\n",
    "STOCKS_DF1_FIRST7 = STOCKS_DF1.head(7)"
   ]
  },
  {
   "cell_type": "code",
   "execution_count": 120,
   "metadata": {},
   "outputs": [
    {
     "data": {
      "text/html": [
       "<div>\n",
       "<style scoped>\n",
       "    .dataframe tbody tr th:only-of-type {\n",
       "        vertical-align: middle;\n",
       "    }\n",
       "\n",
       "    .dataframe tbody tr th {\n",
       "        vertical-align: top;\n",
       "    }\n",
       "\n",
       "    .dataframe thead th {\n",
       "        text-align: right;\n",
       "    }\n",
       "</style>\n",
       "<table border=\"1\" class=\"dataframe\">\n",
       "  <thead>\n",
       "    <tr style=\"text-align: right;\">\n",
       "      <th></th>\n",
       "      <th>Date</th>\n",
       "      <th>Open</th>\n",
       "      <th>High</th>\n",
       "      <th>Low</th>\n",
       "      <th>Close</th>\n",
       "      <th>Volume</th>\n",
       "      <th>Name</th>\n",
       "      <th>Year</th>\n",
       "    </tr>\n",
       "  </thead>\n",
       "  <tbody>\n",
       "    <tr>\n",
       "      <th>0</th>\n",
       "      <td>1/3/2017</td>\n",
       "      <td>115.80</td>\n",
       "      <td>116.33</td>\n",
       "      <td>114.76</td>\n",
       "      <td>116.15</td>\n",
       "      <td>28781865</td>\n",
       "      <td>AAPL</td>\n",
       "      <td>2017</td>\n",
       "    </tr>\n",
       "    <tr>\n",
       "      <th>1</th>\n",
       "      <td>1/4/2017</td>\n",
       "      <td>115.85</td>\n",
       "      <td>116.51</td>\n",
       "      <td>115.75</td>\n",
       "      <td>116.02</td>\n",
       "      <td>21118116</td>\n",
       "      <td>AAPL</td>\n",
       "      <td>2017</td>\n",
       "    </tr>\n",
       "    <tr>\n",
       "      <th>2</th>\n",
       "      <td>1/5/2017</td>\n",
       "      <td>115.92</td>\n",
       "      <td>116.86</td>\n",
       "      <td>115.81</td>\n",
       "      <td>116.61</td>\n",
       "      <td>22193587</td>\n",
       "      <td>AAPL</td>\n",
       "      <td>2017</td>\n",
       "    </tr>\n",
       "    <tr>\n",
       "      <th>3</th>\n",
       "      <td>1/6/2017</td>\n",
       "      <td>116.78</td>\n",
       "      <td>118.16</td>\n",
       "      <td>116.47</td>\n",
       "      <td>117.91</td>\n",
       "      <td>31751900</td>\n",
       "      <td>AAPL</td>\n",
       "      <td>2017</td>\n",
       "    </tr>\n",
       "    <tr>\n",
       "      <th>4</th>\n",
       "      <td>1/9/2017</td>\n",
       "      <td>117.95</td>\n",
       "      <td>119.43</td>\n",
       "      <td>117.94</td>\n",
       "      <td>118.99</td>\n",
       "      <td>33561948</td>\n",
       "      <td>AAPL</td>\n",
       "      <td>2017</td>\n",
       "    </tr>\n",
       "    <tr>\n",
       "      <th>5</th>\n",
       "      <td>1/10/2017</td>\n",
       "      <td>118.77</td>\n",
       "      <td>119.38</td>\n",
       "      <td>118.30</td>\n",
       "      <td>119.11</td>\n",
       "      <td>24462051</td>\n",
       "      <td>AAPL</td>\n",
       "      <td>2017</td>\n",
       "    </tr>\n",
       "    <tr>\n",
       "      <th>6</th>\n",
       "      <td>1/11/2017</td>\n",
       "      <td>118.74</td>\n",
       "      <td>119.93</td>\n",
       "      <td>118.60</td>\n",
       "      <td>119.75</td>\n",
       "      <td>27588593</td>\n",
       "      <td>AAPL</td>\n",
       "      <td>2017</td>\n",
       "    </tr>\n",
       "  </tbody>\n",
       "</table>\n",
       "</div>"
      ],
      "text/plain": [
       "        Date    Open    High     Low   Close    Volume  Name  Year\n",
       "0   1/3/2017  115.80  116.33  114.76  116.15  28781865  AAPL  2017\n",
       "1   1/4/2017  115.85  116.51  115.75  116.02  21118116  AAPL  2017\n",
       "2   1/5/2017  115.92  116.86  115.81  116.61  22193587  AAPL  2017\n",
       "3   1/6/2017  116.78  118.16  116.47  117.91  31751900  AAPL  2017\n",
       "4   1/9/2017  117.95  119.43  117.94  118.99  33561948  AAPL  2017\n",
       "5  1/10/2017  118.77  119.38  118.30  119.11  24462051  AAPL  2017\n",
       "6  1/11/2017  118.74  119.93  118.60  119.75  27588593  AAPL  2017"
      ]
     },
     "execution_count": 120,
     "metadata": {},
     "output_type": "execute_result"
    }
   ],
   "source": [
    "# DO NOT MODIFY !!!\n",
    "STOCKS_DF1_FIRST7"
   ]
  },
  {
   "cell_type": "markdown",
   "metadata": {},
   "source": [
    "<span style=\"color:blue\">\n",
    "    8. Create another new column for <strong>STOCKS_DF1 DataFrame</strong> called <strong>'Qtr'</strong> that contains the value of the quarter (<strong>1</strong>) <br>\n",
    "    9. Set variable <strong>STOCKS_DF1_LAST10</strong> to the last <strong>10</strong> records of the DataFrame <strong>STOCKS_DF1</strong> using the <strong>tail()</strong> function.\n",
    "</span>"
   ]
  },
  {
   "cell_type": "code",
   "execution_count": 121,
   "metadata": {},
   "outputs": [],
   "source": [
    "# INSERT CODE FOR STEPS 8 - 9\n",
    "STOCKS_DF1['Qtr'] = 1\n",
    "STOCKS_DF1_LAST10 = STOCKS_DF1.tail(10)"
   ]
  },
  {
   "cell_type": "code",
   "execution_count": 122,
   "metadata": {},
   "outputs": [
    {
     "data": {
      "text/html": [
       "<div>\n",
       "<style scoped>\n",
       "    .dataframe tbody tr th:only-of-type {\n",
       "        vertical-align: middle;\n",
       "    }\n",
       "\n",
       "    .dataframe tbody tr th {\n",
       "        vertical-align: top;\n",
       "    }\n",
       "\n",
       "    .dataframe thead th {\n",
       "        text-align: right;\n",
       "    }\n",
       "</style>\n",
       "<table border=\"1\" class=\"dataframe\">\n",
       "  <thead>\n",
       "    <tr style=\"text-align: right;\">\n",
       "      <th></th>\n",
       "      <th>Date</th>\n",
       "      <th>Open</th>\n",
       "      <th>High</th>\n",
       "      <th>Low</th>\n",
       "      <th>Close</th>\n",
       "      <th>Volume</th>\n",
       "      <th>Name</th>\n",
       "      <th>Year</th>\n",
       "      <th>Qtr</th>\n",
       "    </tr>\n",
       "  </thead>\n",
       "  <tbody>\n",
       "    <tr>\n",
       "      <th>238</th>\n",
       "      <td>3/20/2017</td>\n",
       "      <td>45.67</td>\n",
       "      <td>45.95</td>\n",
       "      <td>45.16</td>\n",
       "      <td>45.23</td>\n",
       "      <td>21452575</td>\n",
       "      <td>ORCL</td>\n",
       "      <td>2017</td>\n",
       "      <td>1</td>\n",
       "    </tr>\n",
       "    <tr>\n",
       "      <th>239</th>\n",
       "      <td>3/21/2017</td>\n",
       "      <td>45.31</td>\n",
       "      <td>45.40</td>\n",
       "      <td>44.71</td>\n",
       "      <td>44.84</td>\n",
       "      <td>21974454</td>\n",
       "      <td>ORCL</td>\n",
       "      <td>2017</td>\n",
       "      <td>1</td>\n",
       "    </tr>\n",
       "    <tr>\n",
       "      <th>240</th>\n",
       "      <td>3/22/2017</td>\n",
       "      <td>45.13</td>\n",
       "      <td>45.45</td>\n",
       "      <td>44.63</td>\n",
       "      <td>44.79</td>\n",
       "      <td>14339677</td>\n",
       "      <td>ORCL</td>\n",
       "      <td>2017</td>\n",
       "      <td>1</td>\n",
       "    </tr>\n",
       "    <tr>\n",
       "      <th>241</th>\n",
       "      <td>3/23/2017</td>\n",
       "      <td>44.68</td>\n",
       "      <td>45.06</td>\n",
       "      <td>44.67</td>\n",
       "      <td>44.95</td>\n",
       "      <td>16190536</td>\n",
       "      <td>ORCL</td>\n",
       "      <td>2017</td>\n",
       "      <td>1</td>\n",
       "    </tr>\n",
       "    <tr>\n",
       "      <th>242</th>\n",
       "      <td>3/24/2017</td>\n",
       "      <td>44.92</td>\n",
       "      <td>45.09</td>\n",
       "      <td>44.58</td>\n",
       "      <td>44.65</td>\n",
       "      <td>13110178</td>\n",
       "      <td>ORCL</td>\n",
       "      <td>2017</td>\n",
       "      <td>1</td>\n",
       "    </tr>\n",
       "    <tr>\n",
       "      <th>243</th>\n",
       "      <td>3/27/2017</td>\n",
       "      <td>44.51</td>\n",
       "      <td>44.93</td>\n",
       "      <td>44.36</td>\n",
       "      <td>44.84</td>\n",
       "      <td>8933400</td>\n",
       "      <td>ORCL</td>\n",
       "      <td>2017</td>\n",
       "      <td>1</td>\n",
       "    </tr>\n",
       "    <tr>\n",
       "      <th>244</th>\n",
       "      <td>3/28/2017</td>\n",
       "      <td>44.83</td>\n",
       "      <td>45.03</td>\n",
       "      <td>44.66</td>\n",
       "      <td>44.69</td>\n",
       "      <td>14008754</td>\n",
       "      <td>ORCL</td>\n",
       "      <td>2017</td>\n",
       "      <td>1</td>\n",
       "    </tr>\n",
       "    <tr>\n",
       "      <th>245</th>\n",
       "      <td>3/29/2017</td>\n",
       "      <td>44.52</td>\n",
       "      <td>44.73</td>\n",
       "      <td>44.47</td>\n",
       "      <td>44.52</td>\n",
       "      <td>10636243</td>\n",
       "      <td>ORCL</td>\n",
       "      <td>2017</td>\n",
       "      <td>1</td>\n",
       "    </tr>\n",
       "    <tr>\n",
       "      <th>246</th>\n",
       "      <td>3/30/2017</td>\n",
       "      <td>44.45</td>\n",
       "      <td>44.74</td>\n",
       "      <td>44.37</td>\n",
       "      <td>44.68</td>\n",
       "      <td>7792510</td>\n",
       "      <td>ORCL</td>\n",
       "      <td>2017</td>\n",
       "      <td>1</td>\n",
       "    </tr>\n",
       "    <tr>\n",
       "      <th>247</th>\n",
       "      <td>3/31/2017</td>\n",
       "      <td>44.50</td>\n",
       "      <td>44.85</td>\n",
       "      <td>44.46</td>\n",
       "      <td>44.61</td>\n",
       "      <td>10652754</td>\n",
       "      <td>ORCL</td>\n",
       "      <td>2017</td>\n",
       "      <td>1</td>\n",
       "    </tr>\n",
       "  </tbody>\n",
       "</table>\n",
       "</div>"
      ],
      "text/plain": [
       "          Date   Open   High    Low  Close    Volume  Name  Year  Qtr\n",
       "238  3/20/2017  45.67  45.95  45.16  45.23  21452575  ORCL  2017    1\n",
       "239  3/21/2017  45.31  45.40  44.71  44.84  21974454  ORCL  2017    1\n",
       "240  3/22/2017  45.13  45.45  44.63  44.79  14339677  ORCL  2017    1\n",
       "241  3/23/2017  44.68  45.06  44.67  44.95  16190536  ORCL  2017    1\n",
       "242  3/24/2017  44.92  45.09  44.58  44.65  13110178  ORCL  2017    1\n",
       "243  3/27/2017  44.51  44.93  44.36  44.84   8933400  ORCL  2017    1\n",
       "244  3/28/2017  44.83  45.03  44.66  44.69  14008754  ORCL  2017    1\n",
       "245  3/29/2017  44.52  44.73  44.47  44.52  10636243  ORCL  2017    1\n",
       "246  3/30/2017  44.45  44.74  44.37  44.68   7792510  ORCL  2017    1\n",
       "247  3/31/2017  44.50  44.85  44.46  44.61  10652754  ORCL  2017    1"
      ]
     },
     "execution_count": 122,
     "metadata": {},
     "output_type": "execute_result"
    }
   ],
   "source": [
    "# DO NOT MODIFY !!!\n",
    "STOCKS_DF1_LAST10"
   ]
  },
  {
   "cell_type": "markdown",
   "metadata": {},
   "source": [
    "<span style=\"color:blue\">\n",
    "    10. Create another new column for <strong>STOCKS_DF1 DataFrame</strong> called <strong>'Perf'</strong>. This column will be created using a calculation. The column values are calculated as <strong>100 * ( 'Close' - 'Open') / 'Open'</strong> where 'Close' and 'Open' refer to the columns to use in the calculation.<br>\n",
    "    11. Set variable <strong>STOCKS_DF1_LAST5</strong> to the last <strong>5</strong> records of the DataFrame <strong>STOCKS_DF1</strong> using the <strong>tail()</strong> function.\n",
    "</span>"
   ]
  },
  {
   "cell_type": "code",
   "execution_count": 124,
   "metadata": {},
   "outputs": [],
   "source": [
    "# INSERT CODE FOR STEPS 10 - 11\n",
    "STOCKS_DF1['Perf'] = 100*(STOCKS_DF1['Close']-STOCKS_DF1['Open'])/STOCKS_DF1['Open']\n",
    "STOCKS_DF1_LAST5 = STOCKS_DF1.tail()"
   ]
  },
  {
   "cell_type": "code",
   "execution_count": 125,
   "metadata": {},
   "outputs": [
    {
     "data": {
      "text/html": [
       "<div>\n",
       "<style scoped>\n",
       "    .dataframe tbody tr th:only-of-type {\n",
       "        vertical-align: middle;\n",
       "    }\n",
       "\n",
       "    .dataframe tbody tr th {\n",
       "        vertical-align: top;\n",
       "    }\n",
       "\n",
       "    .dataframe thead th {\n",
       "        text-align: right;\n",
       "    }\n",
       "</style>\n",
       "<table border=\"1\" class=\"dataframe\">\n",
       "  <thead>\n",
       "    <tr style=\"text-align: right;\">\n",
       "      <th></th>\n",
       "      <th>Date</th>\n",
       "      <th>Open</th>\n",
       "      <th>High</th>\n",
       "      <th>Low</th>\n",
       "      <th>Close</th>\n",
       "      <th>Volume</th>\n",
       "      <th>Name</th>\n",
       "      <th>Year</th>\n",
       "      <th>Qtr</th>\n",
       "      <th>Perf</th>\n",
       "    </tr>\n",
       "  </thead>\n",
       "  <tbody>\n",
       "    <tr>\n",
       "      <th>243</th>\n",
       "      <td>3/27/2017</td>\n",
       "      <td>44.51</td>\n",
       "      <td>44.93</td>\n",
       "      <td>44.36</td>\n",
       "      <td>44.84</td>\n",
       "      <td>8933400</td>\n",
       "      <td>ORCL</td>\n",
       "      <td>2017</td>\n",
       "      <td>1</td>\n",
       "      <td>0.741406</td>\n",
       "    </tr>\n",
       "    <tr>\n",
       "      <th>244</th>\n",
       "      <td>3/28/2017</td>\n",
       "      <td>44.83</td>\n",
       "      <td>45.03</td>\n",
       "      <td>44.66</td>\n",
       "      <td>44.69</td>\n",
       "      <td>14008754</td>\n",
       "      <td>ORCL</td>\n",
       "      <td>2017</td>\n",
       "      <td>1</td>\n",
       "      <td>-0.312291</td>\n",
       "    </tr>\n",
       "    <tr>\n",
       "      <th>245</th>\n",
       "      <td>3/29/2017</td>\n",
       "      <td>44.52</td>\n",
       "      <td>44.73</td>\n",
       "      <td>44.47</td>\n",
       "      <td>44.52</td>\n",
       "      <td>10636243</td>\n",
       "      <td>ORCL</td>\n",
       "      <td>2017</td>\n",
       "      <td>1</td>\n",
       "      <td>0.000000</td>\n",
       "    </tr>\n",
       "    <tr>\n",
       "      <th>246</th>\n",
       "      <td>3/30/2017</td>\n",
       "      <td>44.45</td>\n",
       "      <td>44.74</td>\n",
       "      <td>44.37</td>\n",
       "      <td>44.68</td>\n",
       "      <td>7792510</td>\n",
       "      <td>ORCL</td>\n",
       "      <td>2017</td>\n",
       "      <td>1</td>\n",
       "      <td>0.517435</td>\n",
       "    </tr>\n",
       "    <tr>\n",
       "      <th>247</th>\n",
       "      <td>3/31/2017</td>\n",
       "      <td>44.50</td>\n",
       "      <td>44.85</td>\n",
       "      <td>44.46</td>\n",
       "      <td>44.61</td>\n",
       "      <td>10652754</td>\n",
       "      <td>ORCL</td>\n",
       "      <td>2017</td>\n",
       "      <td>1</td>\n",
       "      <td>0.247191</td>\n",
       "    </tr>\n",
       "  </tbody>\n",
       "</table>\n",
       "</div>"
      ],
      "text/plain": [
       "          Date   Open   High    Low  Close    Volume  Name  Year  Qtr  \\\n",
       "243  3/27/2017  44.51  44.93  44.36  44.84   8933400  ORCL  2017    1   \n",
       "244  3/28/2017  44.83  45.03  44.66  44.69  14008754  ORCL  2017    1   \n",
       "245  3/29/2017  44.52  44.73  44.47  44.52  10636243  ORCL  2017    1   \n",
       "246  3/30/2017  44.45  44.74  44.37  44.68   7792510  ORCL  2017    1   \n",
       "247  3/31/2017  44.50  44.85  44.46  44.61  10652754  ORCL  2017    1   \n",
       "\n",
       "         Perf  \n",
       "243  0.741406  \n",
       "244 -0.312291  \n",
       "245  0.000000  \n",
       "246  0.517435  \n",
       "247  0.247191  "
      ]
     },
     "execution_count": 125,
     "metadata": {},
     "output_type": "execute_result"
    }
   ],
   "source": [
    "# DO NOT MODIFY !!!\n",
    "STOCKS_DF1_LAST5"
   ]
  },
  {
   "cell_type": "markdown",
   "metadata": {},
   "source": [
    "__SETTING COLUMN VALUES AS INDEX__\n",
    "\n",
    "If you want to use one of the columns as the index for your DataFrame, you can do so using __set_index()__ <br>\n",
    "If you want to reset the index back to the default values, you can do so using the __reset_index()__\n",
    "\n",
    "    REF: https://pandas.pydata.org/pandas-docs/stable/reference/api/pandas.DataFrame.set_index.html\n",
    "    \n"
   ]
  },
  {
   "cell_type": "markdown",
   "metadata": {},
   "source": [
    "<span style=\"color:blue\">\n",
    "    12. Use <strong>.set_index</strong> to set the <strong>'Date'</strong> column as the index for the DataFrame <strong>STOCKS_DF1</strong> <br>\n",
    "    13. Set variable <strong>STOCKS_DF1_FIRST5</strong> to the first <strong>5</strong> records of the DataFrame <strong>STOCKS_DF1</strong> using the <strong>head()</strong> function. <br>\n",
    "    14. Use <strong>.reset_index</strong> to reset the index of DataFrame <strong>STOCKS_DF1</strong> <br>\n",
    "    15. Set variable <strong>STOCKS_DF1_FIRST8</strong> to the first <strong>8</strong> records of the DataFrame <strong>STOCKS_DF1</strong> using the <strong>head()</strong> function.\n",
    "</span>"
   ]
  },
  {
   "cell_type": "code",
   "execution_count": 171,
   "metadata": {},
   "outputs": [],
   "source": [
    "# INSERT CODE FOR STEPS 12 - 15\n",
    "STOCKS_DF1 = STOCKS_DF1.set_index('Date')\n",
    "STOCKS_DF1_FIRST5 = STOCKS_DF1.head()\n",
    "STOCKS_DF1 = STOCKS_DF1.reset_index()\n",
    "STOCKS_DF1_FIRST8 = STOCKS_DF1.head(8)"
   ]
  },
  {
   "cell_type": "code",
   "execution_count": 172,
   "metadata": {},
   "outputs": [
    {
     "data": {
      "text/html": [
       "<div>\n",
       "<style scoped>\n",
       "    .dataframe tbody tr th:only-of-type {\n",
       "        vertical-align: middle;\n",
       "    }\n",
       "\n",
       "    .dataframe tbody tr th {\n",
       "        vertical-align: top;\n",
       "    }\n",
       "\n",
       "    .dataframe thead th {\n",
       "        text-align: right;\n",
       "    }\n",
       "</style>\n",
       "<table border=\"1\" class=\"dataframe\">\n",
       "  <thead>\n",
       "    <tr style=\"text-align: right;\">\n",
       "      <th></th>\n",
       "      <th>Open</th>\n",
       "      <th>High</th>\n",
       "      <th>Low</th>\n",
       "      <th>Close</th>\n",
       "      <th>Volume</th>\n",
       "      <th>Name</th>\n",
       "    </tr>\n",
       "    <tr>\n",
       "      <th>Date</th>\n",
       "      <th></th>\n",
       "      <th></th>\n",
       "      <th></th>\n",
       "      <th></th>\n",
       "      <th></th>\n",
       "      <th></th>\n",
       "    </tr>\n",
       "  </thead>\n",
       "  <tbody>\n",
       "    <tr>\n",
       "      <th>1/3/2017</th>\n",
       "      <td>115.80</td>\n",
       "      <td>116.33</td>\n",
       "      <td>114.76</td>\n",
       "      <td>116.15</td>\n",
       "      <td>28781865</td>\n",
       "      <td>AAPL</td>\n",
       "    </tr>\n",
       "    <tr>\n",
       "      <th>1/4/2017</th>\n",
       "      <td>115.85</td>\n",
       "      <td>116.51</td>\n",
       "      <td>115.75</td>\n",
       "      <td>116.02</td>\n",
       "      <td>21118116</td>\n",
       "      <td>AAPL</td>\n",
       "    </tr>\n",
       "    <tr>\n",
       "      <th>1/5/2017</th>\n",
       "      <td>115.92</td>\n",
       "      <td>116.86</td>\n",
       "      <td>115.81</td>\n",
       "      <td>116.61</td>\n",
       "      <td>22193587</td>\n",
       "      <td>AAPL</td>\n",
       "    </tr>\n",
       "    <tr>\n",
       "      <th>1/6/2017</th>\n",
       "      <td>116.78</td>\n",
       "      <td>118.16</td>\n",
       "      <td>116.47</td>\n",
       "      <td>117.91</td>\n",
       "      <td>31751900</td>\n",
       "      <td>AAPL</td>\n",
       "    </tr>\n",
       "    <tr>\n",
       "      <th>1/9/2017</th>\n",
       "      <td>117.95</td>\n",
       "      <td>119.43</td>\n",
       "      <td>117.94</td>\n",
       "      <td>118.99</td>\n",
       "      <td>33561948</td>\n",
       "      <td>AAPL</td>\n",
       "    </tr>\n",
       "  </tbody>\n",
       "</table>\n",
       "</div>"
      ],
      "text/plain": [
       "            Open    High     Low   Close    Volume  Name\n",
       "Date                                                    \n",
       "1/3/2017  115.80  116.33  114.76  116.15  28781865  AAPL\n",
       "1/4/2017  115.85  116.51  115.75  116.02  21118116  AAPL\n",
       "1/5/2017  115.92  116.86  115.81  116.61  22193587  AAPL\n",
       "1/6/2017  116.78  118.16  116.47  117.91  31751900  AAPL\n",
       "1/9/2017  117.95  119.43  117.94  118.99  33561948  AAPL"
      ]
     },
     "execution_count": 172,
     "metadata": {},
     "output_type": "execute_result"
    }
   ],
   "source": [
    "# DO NOT MODIFY !!!\n",
    "STOCKS_DF1_FIRST5"
   ]
  },
  {
   "cell_type": "code",
   "execution_count": 173,
   "metadata": {},
   "outputs": [
    {
     "data": {
      "text/html": [
       "<div>\n",
       "<style scoped>\n",
       "    .dataframe tbody tr th:only-of-type {\n",
       "        vertical-align: middle;\n",
       "    }\n",
       "\n",
       "    .dataframe tbody tr th {\n",
       "        vertical-align: top;\n",
       "    }\n",
       "\n",
       "    .dataframe thead th {\n",
       "        text-align: right;\n",
       "    }\n",
       "</style>\n",
       "<table border=\"1\" class=\"dataframe\">\n",
       "  <thead>\n",
       "    <tr style=\"text-align: right;\">\n",
       "      <th></th>\n",
       "      <th>Date</th>\n",
       "      <th>Open</th>\n",
       "      <th>High</th>\n",
       "      <th>Low</th>\n",
       "      <th>Close</th>\n",
       "      <th>Volume</th>\n",
       "      <th>Name</th>\n",
       "    </tr>\n",
       "  </thead>\n",
       "  <tbody>\n",
       "    <tr>\n",
       "      <th>0</th>\n",
       "      <td>1/3/2017</td>\n",
       "      <td>115.80</td>\n",
       "      <td>116.33</td>\n",
       "      <td>114.76</td>\n",
       "      <td>116.15</td>\n",
       "      <td>28781865</td>\n",
       "      <td>AAPL</td>\n",
       "    </tr>\n",
       "    <tr>\n",
       "      <th>1</th>\n",
       "      <td>1/4/2017</td>\n",
       "      <td>115.85</td>\n",
       "      <td>116.51</td>\n",
       "      <td>115.75</td>\n",
       "      <td>116.02</td>\n",
       "      <td>21118116</td>\n",
       "      <td>AAPL</td>\n",
       "    </tr>\n",
       "    <tr>\n",
       "      <th>2</th>\n",
       "      <td>1/5/2017</td>\n",
       "      <td>115.92</td>\n",
       "      <td>116.86</td>\n",
       "      <td>115.81</td>\n",
       "      <td>116.61</td>\n",
       "      <td>22193587</td>\n",
       "      <td>AAPL</td>\n",
       "    </tr>\n",
       "    <tr>\n",
       "      <th>3</th>\n",
       "      <td>1/6/2017</td>\n",
       "      <td>116.78</td>\n",
       "      <td>118.16</td>\n",
       "      <td>116.47</td>\n",
       "      <td>117.91</td>\n",
       "      <td>31751900</td>\n",
       "      <td>AAPL</td>\n",
       "    </tr>\n",
       "    <tr>\n",
       "      <th>4</th>\n",
       "      <td>1/9/2017</td>\n",
       "      <td>117.95</td>\n",
       "      <td>119.43</td>\n",
       "      <td>117.94</td>\n",
       "      <td>118.99</td>\n",
       "      <td>33561948</td>\n",
       "      <td>AAPL</td>\n",
       "    </tr>\n",
       "    <tr>\n",
       "      <th>5</th>\n",
       "      <td>1/10/2017</td>\n",
       "      <td>118.77</td>\n",
       "      <td>119.38</td>\n",
       "      <td>118.30</td>\n",
       "      <td>119.11</td>\n",
       "      <td>24462051</td>\n",
       "      <td>AAPL</td>\n",
       "    </tr>\n",
       "    <tr>\n",
       "      <th>6</th>\n",
       "      <td>1/11/2017</td>\n",
       "      <td>118.74</td>\n",
       "      <td>119.93</td>\n",
       "      <td>118.60</td>\n",
       "      <td>119.75</td>\n",
       "      <td>27588593</td>\n",
       "      <td>AAPL</td>\n",
       "    </tr>\n",
       "    <tr>\n",
       "      <th>7</th>\n",
       "      <td>1/12/2017</td>\n",
       "      <td>118.90</td>\n",
       "      <td>119.30</td>\n",
       "      <td>118.21</td>\n",
       "      <td>119.25</td>\n",
       "      <td>27086220</td>\n",
       "      <td>AAPL</td>\n",
       "    </tr>\n",
       "  </tbody>\n",
       "</table>\n",
       "</div>"
      ],
      "text/plain": [
       "        Date    Open    High     Low   Close    Volume  Name\n",
       "0   1/3/2017  115.80  116.33  114.76  116.15  28781865  AAPL\n",
       "1   1/4/2017  115.85  116.51  115.75  116.02  21118116  AAPL\n",
       "2   1/5/2017  115.92  116.86  115.81  116.61  22193587  AAPL\n",
       "3   1/6/2017  116.78  118.16  116.47  117.91  31751900  AAPL\n",
       "4   1/9/2017  117.95  119.43  117.94  118.99  33561948  AAPL\n",
       "5  1/10/2017  118.77  119.38  118.30  119.11  24462051  AAPL\n",
       "6  1/11/2017  118.74  119.93  118.60  119.75  27588593  AAPL\n",
       "7  1/12/2017  118.90  119.30  118.21  119.25  27086220  AAPL"
      ]
     },
     "execution_count": 173,
     "metadata": {},
     "output_type": "execute_result"
    }
   ],
   "source": [
    "# DO NOT MODIFY !!!\n",
    "STOCKS_DF1_FIRST8"
   ]
  }
 ],
 "metadata": {
  "kernelspec": {
   "display_name": "Python 3",
   "language": "python",
   "name": "python3"
  },
  "language_info": {
   "codemirror_mode": {
    "name": "ipython",
    "version": 3
   },
   "file_extension": ".py",
   "mimetype": "text/x-python",
   "name": "python",
   "nbconvert_exporter": "python",
   "pygments_lexer": "ipython3",
   "version": "3.8.8"
  }
 },
 "nbformat": 4,
 "nbformat_minor": 4
}
