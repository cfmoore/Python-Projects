{
 "cells": [
  {
   "cell_type": "markdown",
   "metadata": {},
   "source": [
    "# Lab 7:Reading and writing CSV, JSON and XML with Python"
   ]
  },
  {
   "cell_type": "markdown",
   "metadata": {},
   "source": [
    "### Author: <font color='red'> Charles Moore </font>"
   ]
  },
  {
   "cell_type": "markdown",
   "metadata": {},
   "source": [
    "### Part A - Reading and writing CSV files (20 points)"
   ]
  },
  {
   "cell_type": "code",
   "execution_count": 51,
   "metadata": {},
   "outputs": [],
   "source": [
    "# Import necessary libraries\n",
    "import os\n",
    "import csv"
   ]
  },
  {
   "cell_type": "markdown",
   "metadata": {},
   "source": [
    "#### Read a TXT file 'classic_books.txt' using Python's open() function\n",
    "\n",
    "Python files are read using the Python's open() function\n",
    "- Additional information about the __open()__ library can be found here:<br>\n",
    "https://www.w3schools.com/python/python_file_open.asp <br>\n",
    "https://docs.python.org/3/tutorial/inputoutput.html <br>\n",
    "\n",
    "In addition to the standard __open()__ function, there is also the option to use __with open() as XXXX__<br>\n",
    "Using __with open()__ eliminates the need to __close()__ the file.\n"
   ]
  },
  {
   "cell_type": "markdown",
   "metadata": {},
   "source": [
    "<span style=\"color:blue\">\n",
    "    Make sure file <strong>classic_books.txt</strong> is located in the current directory.<br>\n",
    "    Since this file is a <strong>.txt</strong> file, use Python <strong>open()</strong> to read the file line-by-line<br><br>\n",
    "    - The file has 4 columns of data: Rank, Title, Author, Year<br>\n",
    "    - Each data entry is separated by the <strong>'|'</strong> character, so use Python's <strong>split()</strong> method to parse the input line.<br>\n",
    "    - Save each line as an entry in a Python List.<br><br>\n",
    "    1. Create an empty list assigned to a variable named <strong>classics</strong> <br>\n",
    "    2. Read file <strong>classic_books.txt</strong> using Python's <strong>open()</strong> function. <br>\n",
    "    - NOTE: Use <strong>with open(...) as XXXXX:</strong> to eliminate having to <strong>close()</strong> the file.<br>\n",
    "    - HINT: Remember to <strong>strip()</strong> whitespace <br>\n",
    "    3. Parse the file using the <strong>.split()</strong> method <br>\n",
    "    4. Save each line/row in a variable named <strong>book_data</strong> <br>\n",
    "    5. Add <strong>book_data</strong> to <strong>classics</strong> <br>\n",
    "</span>"
   ]
  },
  {
   "cell_type": "code",
   "execution_count": 52,
   "metadata": {},
   "outputs": [],
   "source": [
    "# Read a TXT file 'classic_books.txt' using Python's open() function\n",
    "\n",
    "# INSERT CODE FOR STEPS 1-5\n",
    "classics = []\n",
    "with open('classic_books.txt','r') as file:\n",
    "    reader = file.readlines()\n",
    "reader = [x.strip() for x in reader]\n",
    "for i in reader:\n",
    "    book_data = i.split('|')\n",
    "    classics.append(book_data)"
   ]
  },
  {
   "cell_type": "code",
   "execution_count": 53,
   "metadata": {},
   "outputs": [
    {
     "name": "stdout",
     "output_type": "stream",
     "text": [
      "['Rank', 'Title', 'Author', 'Year']\n",
      "['1', 'Pride and Prejudice', 'Jane Austen', '1813']\n",
      "['2', 'To Kill a Mockingbird', 'Harper Lee', '1960']\n",
      "['3', 'The Great Gatsby', 'F. Scott Fitzgerald', '1925']\n",
      "['4', 'One Hundred Years of Solitude', 'Gabriel Garcia Marquez', '1967']\n",
      "['5', 'In Cold Blood', 'Truman Capote', '1965']\n",
      "['6', 'Wide Sargasso Sea', 'Jean Rhys', '1966']\n",
      "['7', 'Brave New World', 'Aldous Huxley', '1932']\n",
      "['8', 'I Capture The Castle', 'Dodie Smith', '1948']\n",
      "['9', 'Jane Eyre', 'Charlotte Bronte', '1847']\n",
      "['10', 'Crime and Punishment', 'Fyodor Dostoevsky', '1866']\n"
     ]
    }
   ],
   "source": [
    "# DO NOT MODIFY !!!\n",
    "# Print each item in classics\n",
    "for i in classics:\n",
    "    print(i)"
   ]
  },
  {
   "cell_type": "markdown",
   "metadata": {},
   "source": [
    "#### Write a CSV file 'classic_books.csv' using Python's csv.write() function\n",
    "\n",
    "CSV files are plain text files used to store data in a tabular format, with each piece of data separated by a comma (,)\n",
    "Python has a __csv__ library that allows you to read, parse and write CSV files\n",
    "- Additional information about the __csv__ library can be found here: <br> \n",
    "https://docs.python.org/3/library/csv.html\n",
    "\n",
    "A few of the most commonly used methods are:\n",
    "- csv.reader(_csvfile, dialect='excel', \\*\\*fmtparams_) ~ returns a reader object which will iterate over the lines in the csv file\n",
    "- csv.writer((_csvfile, dialect='excel', \\*\\*fmtparams_) ~ returns a writer object responsible for converting the user's data into delimted strings "
   ]
  },
  {
   "cell_type": "markdown",
   "metadata": {},
   "source": [
    "<div class=\"alert alert-warning\">\n",
    "<strong>IMPORTANT:</strong> Use the <strong>classics</strong> list created in the previous cell to write a new CSV file named <strong>classic_books.csv</strong>.\n",
    "</div>"
   ]
  },
  {
   "cell_type": "markdown",
   "metadata": {},
   "source": [
    "<span style=\"color:blue\">\n",
    "    6. Open a file named <strong>classic_books.csv</strong> and use Pythons <strong>csv.writer()</strong> method to write each entry in your <strong>classics</strong> list as a row in a CSV file.<br>\n",
    "    - 6a. Iterate thru the <strong>classics</strong> list using <strong>.writerow</strong> to populate the file <br>\n",
    "    - 6b. HINT: Specify <strong>newline=''</strong> to keep from getting extra blank lines in CSV file\n",
    "</span>"
   ]
  },
  {
   "cell_type": "code",
   "execution_count": 54,
   "metadata": {},
   "outputs": [],
   "source": [
    "# Write a CSV file named 'classic_books.csv' using Python's csv.writer() function\n",
    "\n",
    "# INSERT CODE FOR STEP 6\n",
    "with open('classic_books.csv', 'w', newline='') as file:\n",
    "    writer = csv.writer(file)\n",
    "    for x in classics:\n",
    "        writer.writerow(x)"
   ]
  },
  {
   "cell_type": "markdown",
   "metadata": {},
   "source": [
    "<div class=\"alert alert-success\">\n",
    "    Verify your <strong>classic_books.csv</strong> looks like the following image when opened with Excel <br><br>\n",
    "    <img src=\"classic_books_xclx.jpg\"><br>\n",
    "    You can also open the file in Jupyter Notebook. It will look \"similar\" to Excel but not exactly.\n",
    "</div>"
   ]
  },
  {
   "cell_type": "markdown",
   "metadata": {},
   "source": [
    "#### Read a CSV file 'classic_books.csv' using Panda's read_csv() function"
   ]
  },
  {
   "cell_type": "markdown",
   "metadata": {},
   "source": [
    "<div class=\"alert alert-warning\">\n",
    "<strong>IMPORTANT:</strong> Use the <strong>classic_books.csv</strong> file created in the previous cell.\n",
    "</div>"
   ]
  },
  {
   "cell_type": "markdown",
   "metadata": {},
   "source": [
    "<span style=\"color:blue\">\n",
    "    7. Read file <strong>classic_books.csv</strong> using Pandas <strong>read_csv()</strong> function. <br>\n",
    "    8. Save the file contents in a <strong>DataFrame</strong> named <strong>classics_df</strong> <br>\n",
    "</span>"
   ]
  },
  {
   "cell_type": "code",
   "execution_count": 55,
   "metadata": {},
   "outputs": [],
   "source": [
    "# Import pandas library\n",
    "import pandas as pd\n",
    "\n",
    "# Read a CSV file named 'classic_books.csv' using Panda's read_csv() function\n",
    "classics_df = pd.read_csv('classic_books.csv')\n",
    "\n",
    "# INSERT CODE FOR STEPS 7-8"
   ]
  },
  {
   "cell_type": "markdown",
   "metadata": {},
   "source": [
    "<div class=\"alert alert-success\">\n",
    " <strong>NOTE how much less code is required to read a CSV file using Pandas!</strong>\n",
    "</div>"
   ]
  },
  {
   "cell_type": "code",
   "execution_count": 56,
   "metadata": {},
   "outputs": [
    {
     "data": {
      "text/html": [
       "<div>\n",
       "<style scoped>\n",
       "    .dataframe tbody tr th:only-of-type {\n",
       "        vertical-align: middle;\n",
       "    }\n",
       "\n",
       "    .dataframe tbody tr th {\n",
       "        vertical-align: top;\n",
       "    }\n",
       "\n",
       "    .dataframe thead th {\n",
       "        text-align: right;\n",
       "    }\n",
       "</style>\n",
       "<table border=\"1\" class=\"dataframe\">\n",
       "  <thead>\n",
       "    <tr style=\"text-align: right;\">\n",
       "      <th></th>\n",
       "      <th>Rank</th>\n",
       "      <th>Title</th>\n",
       "      <th>Author</th>\n",
       "      <th>Year</th>\n",
       "    </tr>\n",
       "  </thead>\n",
       "  <tbody>\n",
       "    <tr>\n",
       "      <th>0</th>\n",
       "      <td>1</td>\n",
       "      <td>Pride and Prejudice</td>\n",
       "      <td>Jane Austen</td>\n",
       "      <td>1813</td>\n",
       "    </tr>\n",
       "    <tr>\n",
       "      <th>1</th>\n",
       "      <td>2</td>\n",
       "      <td>To Kill a Mockingbird</td>\n",
       "      <td>Harper Lee</td>\n",
       "      <td>1960</td>\n",
       "    </tr>\n",
       "    <tr>\n",
       "      <th>2</th>\n",
       "      <td>3</td>\n",
       "      <td>The Great Gatsby</td>\n",
       "      <td>F. Scott Fitzgerald</td>\n",
       "      <td>1925</td>\n",
       "    </tr>\n",
       "    <tr>\n",
       "      <th>3</th>\n",
       "      <td>4</td>\n",
       "      <td>One Hundred Years of Solitude</td>\n",
       "      <td>Gabriel Garcia Marquez</td>\n",
       "      <td>1967</td>\n",
       "    </tr>\n",
       "    <tr>\n",
       "      <th>4</th>\n",
       "      <td>5</td>\n",
       "      <td>In Cold Blood</td>\n",
       "      <td>Truman Capote</td>\n",
       "      <td>1965</td>\n",
       "    </tr>\n",
       "  </tbody>\n",
       "</table>\n",
       "</div>"
      ],
      "text/plain": [
       "   Rank                          Title                  Author  Year\n",
       "0     1            Pride and Prejudice             Jane Austen  1813\n",
       "1     2          To Kill a Mockingbird              Harper Lee  1960\n",
       "2     3               The Great Gatsby     F. Scott Fitzgerald  1925\n",
       "3     4  One Hundred Years of Solitude  Gabriel Garcia Marquez  1967\n",
       "4     5                  In Cold Blood           Truman Capote  1965"
      ]
     },
     "execution_count": 56,
     "metadata": {},
     "output_type": "execute_result"
    }
   ],
   "source": [
    "# DO NOT MODIFY !!!\n",
    "# Display the first 5 records in the file\n",
    "classics_df.head()"
   ]
  },
  {
   "cell_type": "markdown",
   "metadata": {},
   "source": [
    "### Part B - Reading and writing JSON files (20 points)"
   ]
  },
  {
   "cell_type": "markdown",
   "metadata": {},
   "source": [
    "#### Read JSON file 'classic_books.json' using Python"
   ]
  },
  {
   "cell_type": "markdown",
   "metadata": {},
   "source": [
    "<div class=\"alert alert-warning\">\n",
    "    <strong>IMPORTANT: </strong>Make sure file <strong>classic_books.json</strong> is located in the current directory.<br>\n",
    "    - The file is the JSON version of the CSV file created in the previous step.<br>\n",
    "    - There are 4 keys: rank, title, author, year\n",
    "</div>"
   ]
  },
  {
   "cell_type": "markdown",
   "metadata": {},
   "source": [
    "JSON can easily be read or writen in Python by using a Dictionary object in Python (read into/write from)<br> \n",
    "To read a JSON file into a Python dictionary, you use the __json.load()__ method<br>\n",
    "- json.load(...) ~ deserialize a fp (.read-supporting text file containing JSON) into a Python object\n",
    "\n",
    "Additional information about Python & JSON can be found here:<br>\n",
    "- https://stackabuse.com/reading-and-writing-json-to-a-file-in-python/ <br>\n",
    "- https://docs.python.org/3/library/json.html \n"
   ]
  },
  {
   "cell_type": "markdown",
   "metadata": {},
   "source": [
    "<span style=\"color:blue\">\n",
    "    1. Read file <strong>classic_books.json</strong> <br> \n",
    "    2. Use the <strong>json.load()</strong> function to parse the JSON into a variable named <strong>json_data</strong>.\n",
    "</span>"
   ]
  },
  {
   "cell_type": "code",
   "execution_count": 57,
   "metadata": {},
   "outputs": [],
   "source": [
    "# Import necessary libraries\n",
    "import json\n",
    "\n",
    "# Read JSON file 'classic_books.json' using Python\n",
    "\n",
    "# INSERT CODE FOR STEPS 1-2\n",
    "with open('classic_books.json') as json_file:\n",
    "    json_data = json.load(json_file)"
   ]
  },
  {
   "cell_type": "markdown",
   "metadata": {},
   "source": [
    "#### Create JSON formatted string from Python dictionary using json.dumps() function"
   ]
  },
  {
   "cell_type": "markdown",
   "metadata": {},
   "source": [
    "If you look at the format of a JSON file, you will notice how similar it is to Python's Dictionary format.<br>\n",
    "So it should be no surprise that you can use a Python Dictionary to create a JSON file.<br>\n",
    "To write a Python dictionary to a JSON string, you use the __json.dumps()__ method<br>\n",
    "- json.dumps(...) ~ serializes an object as a JSON string\n",
    "\n",
    "Additional information about Python & JSON can be found here:<br>\n",
    "- https://stackabuse.com/reading-and-writing-json-to-a-file-in-python/ <br>\n",
    "- https://docs.python.org/3/library/json.html "
   ]
  },
  {
   "cell_type": "markdown",
   "metadata": {},
   "source": [
    "<span style=\"color:blue\">\n",
    "    4. Use <strong>json.dumps()</strong> with <strong>indent=4</strong> to create a JSON object named <strong>json_instruments</strong> <br>\n",
    "    *** Use the <strong>instruments_dict</strong> dictionary provided to create <strong>json_instruments</strong> ***<br>\n",
    "    5. Print <strong>json_instruments</strong><br>\n",
    "</span>"
   ]
  },
  {
   "cell_type": "code",
   "execution_count": 59,
   "metadata": {},
   "outputs": [],
   "source": [
    "# Dictionary of instruments (PROVIDED)\n",
    "instruments_dict = {'keyboard': ['piano', 'organ', 'syntesizer'],\n",
    "               'brass': ['trumpet', 'tuba', 'trombone', 'french horn'],\n",
    "               'woodwind': ['clarinet', 'oboe', 'bassoon'],\n",
    "               'percussion': ['drum', 'xylophone'],\n",
    "               'strings': ['violin', 'cello']}"
   ]
  },
  {
   "cell_type": "code",
   "execution_count": 64,
   "metadata": {},
   "outputs": [
    {
     "name": "stdout",
     "output_type": "stream",
     "text": [
      "{\n",
      "    \"keyboard\": [\n",
      "        \"piano\",\n",
      "        \"organ\",\n",
      "        \"syntesizer\"\n",
      "    ],\n",
      "    \"brass\": [\n",
      "        \"trumpet\",\n",
      "        \"tuba\",\n",
      "        \"trombone\",\n",
      "        \"french horn\"\n",
      "    ],\n",
      "    \"woodwind\": [\n",
      "        \"clarinet\",\n",
      "        \"oboe\",\n",
      "        \"bassoon\"\n",
      "    ],\n",
      "    \"percussion\": [\n",
      "        \"drum\",\n",
      "        \"xylophone\"\n",
      "    ],\n",
      "    \"strings\": [\n",
      "        \"violin\",\n",
      "        \"cello\"\n",
      "    ]\n",
      "}\n"
     ]
    }
   ],
   "source": [
    "# Convert Python dictionary (instruments_dict) to JSON formatted string\n",
    "\n",
    "# INSERT CODE FOR STEPS 4-5\n",
    "json_instruments = json.dumps(instruments_dict, indent=4)\n",
    "print(json_instruments)"
   ]
  },
  {
   "cell_type": "markdown",
   "metadata": {},
   "source": [
    "#### Write instruments_dict to file in JSON format using json.dump()"
   ]
  },
  {
   "cell_type": "markdown",
   "metadata": {},
   "source": [
    "To write a Python dictionary to a JSON <strong>file</strong>, you use the __json.dump()__ method<br>\n",
    "- json.dump(...) ~ serializes an object as a JSON formatted stream (fp - .write-supporting file-like object)<br>\n",
    "\n",
    "Additional information about JSON's .dump() method can be found here:<br>\n",
    "- https://stackabuse.com/reading-and-writing-json-to-a-file-in-python/ <br>\n",
    "- https://docs.python.org/3/library/json.html \n"
   ]
  },
  {
   "cell_type": "markdown",
   "metadata": {},
   "source": [
    "<span style=\"color:blue\">\n",
    "    6. Write a JSON file named <strong>instruments.json</strong> using Pythons <strong>json.dump()</strong>. <br><br>\n",
    "</span>"
   ]
  },
  {
   "cell_type": "code",
   "execution_count": 65,
   "metadata": {},
   "outputs": [],
   "source": [
    "# Write instruments_dict to file in JSON format using Python\n",
    "\n",
    "# INSERT CODE FOR STEP 6\n",
    "with open('instruments.json', 'w') as file:\n",
    "    json.dump(json_instruments,file)"
   ]
  },
  {
   "cell_type": "markdown",
   "metadata": {},
   "source": [
    "<div class=\"alert alert-success\">\n",
    " <strong>NOTE:</strong>  You should visually verify the existance of this new file in your current directory. <br>Does the file <strong>instruments.json</strong> now appear in Jupyter Notebook directory list (left pane)?\n",
    "</div>"
   ]
  },
  {
   "cell_type": "markdown",
   "metadata": {},
   "source": [
    "### Part C - Reading and parsing XML files (20 points)"
   ]
  },
  {
   "cell_type": "markdown",
   "metadata": {},
   "source": [
    "#### Read and parse XML file 'classic_books.xml' using ElementTree"
   ]
  },
  {
   "cell_type": "markdown",
   "metadata": {},
   "source": [
    "<div class=\"alert alert-warning\">\n",
    "<strong>IMPORTANT: </strong>Make sure file <strong>classic_books.xml</strong> is located in the current directory.  \n",
    "</div>"
   ]
  },
  {
   "cell_type": "markdown",
   "metadata": {},
   "source": [
    "<span style=\"color:blue\">\n",
    " <strong>REFERENCE:</strong> https://www.edureka.co/blog/python-xml-parser-tutorial/ <br><br>\n",
    "Use <strong>ElementTree()</strong> to read and parse file <strong>classic_books.xml</strong> <br><br>\n",
    "    1. Use <strong>ET.parse('classic_books.xml')</strong> to read and part the XML file into <strong>mytree</strong> <br>\n",
    "    2. Use <strong>mytree.getroot()</strong> to get the root of the tree in <strong>myroot</strong> <br>\n",
    "    3. Print <strong>myroot.tag</strong> <br>\n",
    "</span>"
   ]
  },
  {
   "cell_type": "code",
   "execution_count": 67,
   "metadata": {},
   "outputs": [
    {
     "name": "stdout",
     "output_type": "stream",
     "text": [
      "CLASSICS\n"
     ]
    }
   ],
   "source": [
    "# Import necessary libraries\n",
    "import xml.etree.ElementTree as ET\n",
    "\n",
    "# Read and parse XML file using ElementTree\n",
    "\n",
    "# INSERT CODE FOR STEPS 1-3\n",
    "mytree = ET.parse('classic_books.xml')\n",
    "myroot = mytree.getroot()\n",
    "print(myroot.tag)"
   ]
  },
  {
   "cell_type": "markdown",
   "metadata": {},
   "source": [
    "<span style=\"color:blue\">\n",
    "Now that you have the root of the tree, use it to find ALL the book titles <br>\n",
    "    4. Use a <strong>for loop</strong> to <strong>findall('BOOK')</strong> elements <br>\n",
    "    5. Use <strong>.find('TITLE').text</strong> to get the title text from each book element <br>\n",
    "    6. Print the <strong>TITLE</strong> value/text <br><br>\n",
    "</span>"
   ]
  },
  {
   "cell_type": "code",
   "execution_count": 73,
   "metadata": {},
   "outputs": [
    {
     "name": "stdout",
     "output_type": "stream",
     "text": [
      "Pride and Prejudice\n",
      "To Kill a Mockingbird\n",
      "The Great Gatsby\n",
      "One Hundred Years of Solitude\n",
      "In Cold Blood\n",
      "Wide Sargasso Sea\n",
      "Brave New World\n",
      "I Capture The Castle\n",
      "Jane Eyre\n",
      "Crime and Punishment\n"
     ]
    }
   ],
   "source": [
    "# Find and print ALL the TITLE values (text) for every BOOK element\n",
    "\n",
    "# INSERT CODE FOR STEPS 4-6\n",
    "for x in myroot.findall('BOOK'):\n",
    "    title = x.find('TITLE').text\n",
    "    print(title)"
   ]
  },
  {
   "cell_type": "markdown",
   "metadata": {},
   "source": [
    "### Part D - Reading and parsing YAML files (20 points)"
   ]
  },
  {
   "cell_type": "markdown",
   "metadata": {},
   "source": [
    "#### Read and parse YAML file 'classic_books.yaml' "
   ]
  },
  {
   "cell_type": "markdown",
   "metadata": {},
   "source": [
    "<div class=\"alert alert-warning\">\n",
    "<strong>IMPORTANT: </strong>Make sure file <strong>classic_books.yaml</strong> is located in the current directory.\n",
    "</div>"
   ]
  },
  {
   "cell_type": "markdown",
   "metadata": {},
   "source": [
    "The YAML file syntax is structured very much like a Python Dictionary, but without the __{ }s__<br>\n",
    "However, the YAML file syntax does have a close tie-in to Python -- INDENTATION! <br>\n",
    "- Indentation is a key aspect of YAML and is integral to defining the structure of a YAML file.<br>\n",
    "- Indentation problems cause ERRORS, so you have to be very careful when creating YAML files (NO TABS!).<br>\n",
    "- The good news is there are lots of YAML verification tools available, here are a few:<br>\n",
    "http://www.yamllint.com/<br>\n",
    "https://codebeautify.org/yaml-validator<br>\n",
    "\n",
    "**Additional information** about reading & writing YAML in Python can be found here:\n",
    "https://stackabuse.com/reading-and-writing-yaml-to-a-file-in-python/"
   ]
  },
  {
   "cell_type": "markdown",
   "metadata": {},
   "source": [
    "<span style=\"color:blue\">\n",
    "    1. Open file <strong>class_books.yaml</strong> <br>\n",
    "    - NOTE: Use <strong>with open(...) as XXXXX:</strong> to eliminate having to <strong>close()</strong> the file.<br>\n",
    "    2. Use <strong>yaml.load()</strong> with <strong>Loader=yaml.FullLoader</strong> to read file <strong>class_books.yaml</strong> into a variable named  <strong>classics_dict</strong>.<br>\n",
    "</span>"
   ]
  },
  {
   "cell_type": "code",
   "execution_count": 75,
   "metadata": {},
   "outputs": [],
   "source": [
    "# Import necessary libraries\n",
    "import yaml\n",
    "\n",
    "# Read and parse YAML file using yaml.load() with Loader=yaml.FullLoader\n",
    "\n",
    "# INSERT CODE FOR STEPS 1-2\n",
    "with open('classic_books.yaml') as file:\n",
    "    classics_dict = yaml.load(file,Loader=yaml.FullLoader)"
   ]
  },
  {
   "cell_type": "code",
   "execution_count": 76,
   "metadata": {},
   "outputs": [
    {
     "name": "stdout",
     "output_type": "stream",
     "text": [
      "{'classics': {'books': [{'rank': 1, 'title': 'Pride and Prejudice', 'author': 'Jane Austen', 'year': 1813}, {'rank': 2, 'title': 'To Kill a Mockingbird', 'author': 'Harper Lee', 'year': 1960}, {'rank': 3, 'title': 'The Great Gatsby', 'author': 'F. Scott Fitzgerald', 'year': 1925}, {'rank': 4, 'title': 'One Hundred Years of Solitude', 'author': 'Gabriel Garcia Marquez', 'year': 1967}, {'rank': 5, 'title': 'In Cold Blood', 'author': 'Truman Capote', 'year': 1965}, {'rank': 6, 'title': 'Wide Sargasso Sea', 'author': 'Jean Rhys\"', 'year': 1966}, {'rank': 7, 'title': 'Brave New World', 'author': 'Aldous Huxley', 'year': 1932}, {'rank': 8, 'title': 'I Capture The Castle', 'author': 'Dodie Smith', 'year': 1948}, {'rank': 9, 'title': 'Jane Eyre,', 'author': 'Charlotte Bronte', 'year': 1847}, {'rank': 10, 'title': 'Crime and Punishment', 'author': 'Fyodor Dostoevsky', 'year': 1866}]}} \n",
      "\n"
     ]
    }
   ],
   "source": [
    "# DO NOT MODIFY !!!\n",
    "print(classics_dict, '\\n')"
   ]
  },
  {
   "cell_type": "markdown",
   "metadata": {},
   "source": [
    "<div class=\"alert alert-success\">\n",
    "    <strong>NOTE</strong> the structure of the dictionary data -- you have a dictionary within a dictionary within a dictionary,\n",
    "</div>"
   ]
  },
  {
   "cell_type": "markdown",
   "metadata": {},
   "source": [
    "<span style=\"color:blue\">   \n",
    "    3. Create a dictionary named <strong>books_dict</strong> containing the values where KEY = <strong>classics</strong><br>\n",
    "    4. Create a dictionary named <strong>book_info_dict</strong> containing the values where  KEY = <strong>books</strong><br>\n",
    "</span>"
   ]
  },
  {
   "cell_type": "code",
   "execution_count": 81,
   "metadata": {},
   "outputs": [],
   "source": [
    "# INSERT CODE FOR STEP 3-4\n",
    "\n",
    "# Get the books using 'classics' as the KEY\n",
    "books_dict = classics_dict['classics']\n",
    "# Get the books info using 'books' as the KEY\n",
    "book_info_dict = books_dict['books']"
   ]
  },
  {
   "cell_type": "code",
   "execution_count": 82,
   "metadata": {},
   "outputs": [
    {
     "name": "stdout",
     "output_type": "stream",
     "text": [
      "1 Pride and Prejudice Jane Austen 1813\n",
      "2 To Kill a Mockingbird Harper Lee 1960\n",
      "3 The Great Gatsby F. Scott Fitzgerald 1925\n",
      "4 One Hundred Years of Solitude Gabriel Garcia Marquez 1967\n",
      "5 In Cold Blood Truman Capote 1965\n",
      "6 Wide Sargasso Sea Jean Rhys\" 1966\n",
      "7 Brave New World Aldous Huxley 1932\n",
      "8 I Capture The Castle Dodie Smith 1948\n",
      "9 Jane Eyre, Charlotte Bronte 1847\n",
      "10 Crime and Punishment Fyodor Dostoevsky 1866\n"
     ]
    }
   ],
   "source": [
    "# DO NOT MODIFY !!!\n",
    "# Use for loop to loop thru the books printing each data field\n",
    "for info in book_info_dict:\n",
    "    print(info['rank'],info['title'],info['author'],info['year'])"
   ]
  },
  {
   "cell_type": "markdown",
   "metadata": {},
   "source": [
    "### Part E - Writing a ZIP file (20 points)"
   ]
  },
  {
   "cell_type": "markdown",
   "metadata": {},
   "source": [
    "#### Write a ZIP file 'CSC221Lab7.zip' containing 6 files from the lab"
   ]
  },
  {
   "cell_type": "markdown",
   "metadata": {},
   "source": [
    "<span style=\"color:blue\">\n",
    "Use <strong>zipfile</strong> to create a ZIP file containing the TXT, CSV, JSON, XML and YAML files from this lab <br>\n",
    "    1. Create a list named <strong>files_to_zip</strong> with the following filenames:<br>\n",
    "        <ol>\n",
    "        <li>classic_books.txt</li>\n",
    "        <li>classic_books.csv</li> \n",
    "        <li>classic_books.json</li>\n",
    "        <li>classic_books.xml</li>\n",
    "        <li>classic_books.yaml</li>\n",
    "        <li>instruments.json</li>\n",
    "        </ol>\n",
    "    2. Use <strong>zipfile.ZipFile()</strong> to create a ZIP file named <strong>CSC221Lab7.zip</strong> containing the <strong>SIX (6)</strong> files in <strong>files_to_zip</strong> <br>\n",
    "    3. Print the message <strong>\"<i>zipfilename</i> created successfully\"</strong> where <i>zipfilename</i> is the name of the ZIP file.\n",
    "</span>"
   ]
  },
  {
   "cell_type": "code",
   "execution_count": 90,
   "metadata": {},
   "outputs": [
    {
     "name": "stdout",
     "output_type": "stream",
     "text": [
      "CSC221Lab7.zip  create sucessfully\n"
     ]
    }
   ],
   "source": [
    "# Import zipfile libraries\n",
    "import zipfile\n",
    "\n",
    "# Write a ZIP file using Python zipfile.Zipfile()\n",
    "\n",
    "# INSERT CODE FOR STEPS 1-3\n",
    "files_to_zip = ['classic_books.txt','classic_books.csv',\n",
    "               'classic_books.json','classic_books.xml',\n",
    "               'classic_books.yaml','instruments.json']\n",
    "zip_file_name = 'CSC221Lab7.zip'\n",
    "zipObj = zipfile.ZipFile(zip_file_name,'w')\n",
    "for i in files_to_zip:\n",
    "    zipObj.write(i)\n",
    "zipObj.close()\n",
    "print(zip_file_name,' create sucessfully')"
   ]
  },
  {
   "cell_type": "code",
   "execution_count": null,
   "metadata": {},
   "outputs": [],
   "source": []
  }
 ],
 "metadata": {
  "kernelspec": {
   "display_name": "Python 3",
   "language": "python",
   "name": "python3"
  },
  "language_info": {
   "codemirror_mode": {
    "name": "ipython",
    "version": 3
   },
   "file_extension": ".py",
   "mimetype": "text/x-python",
   "name": "python",
   "nbconvert_exporter": "python",
   "pygments_lexer": "ipython3",
   "version": "3.8.8"
  }
 },
 "nbformat": 4,
 "nbformat_minor": 4
}
